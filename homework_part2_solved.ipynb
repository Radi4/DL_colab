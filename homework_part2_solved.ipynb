{
  "nbformat": 4,
  "nbformat_minor": 0,
  "metadata": {
    "colab": {
      "name": "homework_part2_solved.ipynb",
      "version": "0.3.2",
      "provenance": [],
      "collapsed_sections": [],
      "include_colab_link": true
    },
    "kernelspec": {
      "name": "python3",
      "display_name": "Python 3"
    },
    "accelerator": "GPU"
  },
  "cells": [
    {
      "cell_type": "markdown",
      "metadata": {
        "id": "view-in-github",
        "colab_type": "text"
      },
      "source": [
        "<a href=\"https://colab.research.google.com/github/Radi4/DL_colab/blob/master/homework_part2_solved.ipynb\" target=\"_parent\"><img src=\"https://colab.research.google.com/assets/colab-badge.svg\" alt=\"Open In Colab\"/></a>"
      ]
    },
    {
      "metadata": {
        "collapsed": true,
        "id": "rhOvrS5BVxwE",
        "colab_type": "text"
      },
      "cell_type": "markdown",
      "source": [
        "# Homework 2.2: The Quest For A Better Network\n",
        "\n",
        "In this assignment you will build a monster network to solve Tiny ImageNet image classification.\n",
        "\n",
        "This notebook is intended as a sequel to seminar 3, please give it a try if you haven't done so yet."
      ]
    },
    {
      "metadata": {
        "id": "T9e4cudjVxwH",
        "colab_type": "text"
      },
      "cell_type": "markdown",
      "source": [
        "(please read it at least diagonally)\n",
        "\n",
        "* The ultimate quest is to create a network that has as high __accuracy__ as you can push it.\n",
        "* There is a __mini-report__ at the end that you will have to fill in. We recommend reading it first and filling it while you iterate.\n",
        " \n",
        "## Grading\n",
        "* starting at zero points\n",
        "* +20% for describing your iteration path in a report below.\n",
        "* +20% for building a network that gets above 20% accuracy\n",
        "* +10% for beating each of these milestones on __TEST__ dataset:\n",
        "    * 25% (50% points)\n",
        "    * 30% (60% points)\n",
        "    * 32.5% (70% points)\n",
        "    * 35% (80% points)\n",
        "    * 37.5% (90% points)\n",
        "    * 40% (full points)\n",
        "    \n",
        "## Restrictions\n",
        "* Please do NOT use pre-trained networks for this assignment until you reach 40%.\n",
        " * In other words, base milestones must be beaten without pre-trained nets (and such net must be present in the anytask atttachments). After that, you can use whatever you want.\n",
        "* you __can't__ do anything with validation data apart from running the evaluation procedure. Please, split train images on train and validation parts\n",
        "\n",
        "## Tips on what can be done:\n",
        "\n",
        "\n",
        " * __Network size__\n",
        "   * MOAR neurons, \n",
        "   * MOAR layers, ([torch.nn docs](http://pytorch.org/docs/master/nn.html))\n",
        "\n",
        "   * Nonlinearities in the hidden layers\n",
        "     * tanh, relu, leaky relu, etc\n",
        "   * Larger networks may take more epochs to train, so don't discard your net just because it could didn't beat the baseline in 5 epochs.\n",
        "\n",
        "   * Ph'nglui mglw'nafh Cthulhu R'lyeh wgah'nagl fhtagn!\n",
        "\n",
        "\n",
        "### The main rule of prototyping: one change at a time\n",
        "   * By now you probably have several ideas on what to change. By all means, try them out! But there's a catch: __never test several new things at once__.\n",
        "\n",
        "\n",
        "### Optimization\n",
        "   * Training for 100 epochs regardless of anything is probably a bad idea.\n",
        "   * Some networks converge over 5 epochs, others - over 500.\n",
        "   * Way to go: stop when validation score is 10 iterations past maximum\n",
        "   * You should certainly use adaptive optimizers\n",
        "     * rmsprop, nesterov_momentum, adam, adagrad and so on.\n",
        "     * Converge faster and sometimes reach better optima\n",
        "     * It might make sense to tweak learning rate/momentum, other learning parameters, batch size and number of epochs\n",
        "   * __BatchNormalization__ (nn.BatchNorm2d) for the win!\n",
        "     * Sometimes more batch normalization is better.\n",
        "   * __Regularize__ to prevent overfitting\n",
        "     * Add some L2 weight norm to the loss function, PyTorch will do the rest\n",
        "       * Can be done manually or like [this](https://discuss.pytorch.org/t/simple-l2-regularization/139/2).\n",
        "     * Dropout (`nn.Dropout`) - to prevent overfitting\n",
        "       * Don't overdo it. Check if it actually makes your network better\n",
        "   \n",
        "### Convolution architectures\n",
        "   * This task __can__ be solved by a sequence of convolutions and poolings with batch_norm and ReLU seasoning, but you shouldn't necessarily stop there.\n",
        "   * [Inception family](https://hacktilldawn.com/2016/09/25/inception-modules-explained-and-implemented/), [ResNet family](https://towardsdatascience.com/an-overview-of-resnet-and-its-variants-5281e2f56035?gi=9018057983ca), [Densely-connected convolutions (exotic)](https://arxiv.org/abs/1608.06993), [Capsule networks (exotic)](https://arxiv.org/abs/1710.09829)\n",
        "   * Please do try a few simple architectures before you go for resnet-152.\n",
        "   * Warning! Training convolutional networks can take long without GPU. That's okay.\n",
        "     * If you are CPU-only, we still recomment that you try a simple convolutional architecture\n",
        "     * a perfect option is if you can set it up to run at nighttime and check it up at the morning.\n",
        "     * Make reasonable layer size estimates. A 128-neuron first convolution is likely an overkill.\n",
        "     * __To reduce computation__ time by a factor in exchange for some accuracy drop, try using __stride__ parameter. A stride=2 convolution should take roughly 1/4 of the default (stride=1) one.\n",
        " \n",
        "   \n",
        "### Data augmemntation\n",
        "   * getting 5x as large dataset for free is a great \n",
        "     * Zoom-in+slice = move\n",
        "     * Rotate+zoom(to remove black stripes)\n",
        "     * Add Noize (gaussian or bernoulli)\n",
        "   * Simple way to do that (if you have PIL/Image): \n",
        "     * ```from scipy.misc import imrotate,imresize```\n",
        "     * and a few slicing\n",
        "     * Other cool libraries: cv2, skimake, PIL/Pillow\n",
        "   * A more advanced way is to use torchvision transforms:\n",
        "    ```\n",
        "    transform_train = transforms.Compose([\n",
        "        transforms.RandomCrop(32, padding=4),\n",
        "        transforms.RandomHorizontalFlip(),\n",
        "        transforms.ToTensor(),\n",
        "        transforms.Normalize((0.4914, 0.4822, 0.4465), (0.2023, 0.1994, 0.2010)),\n",
        "    ])\n",
        "    trainset = torchvision.datasets.ImageFolder(root=path_to_tiny_imagenet, train=True, download=True, transform=transform_train)\n",
        "    trainloader = torch.utils.data.DataLoader(trainset, batch_size=128, shuffle=True, num_workers=2)\n",
        "\n",
        "    ```\n",
        "   * Or use this tool from Keras (requires theano/tensorflow): [tutorial](https://blog.keras.io/building-powerful-image-classification-models-using-very-little-data.html), [docs](https://keras.io/preprocessing/image/)\n",
        "   * Stay realistic. There's usually no point in flipping dogs upside down as that is not the way you usually see them.\n",
        "   \n"
      ]
    },
    {
      "metadata": {
        "id": "FDcfydREVxwJ",
        "colab_type": "code",
        "colab": {}
      },
      "cell_type": "code",
      "source": [
        "import numpy as np\n",
        "import matplotlib.pyplot as plt\n",
        "import subprocess\n",
        "import os\n",
        "from collections import defaultdict\n",
        "from tqdm import tqdm_notebook, trange, tqdm\n",
        "import torchvision\n",
        "import torch, torch.nn as nn\n",
        "import torch.nn.functional as F\n",
        "from torch.autograd import Variable\n",
        "from torchvision import transforms\n",
        "from torchsummary import summary\n",
        "%matplotlib inline"
      ],
      "execution_count": 0,
      "outputs": []
    },
    {
      "metadata": {
        "id": "HWzQLZFrVxwO",
        "colab_type": "code",
        "colab": {}
      },
      "cell_type": "code",
      "source": [
        "#set random seed\n",
        "np.random.seed(42)\n",
        "torch.manual_seed(42)\n",
        "torch.backends.cudnn.deterministic = True\n",
        "torch.backends.cudnn.benchmark = False"
      ],
      "execution_count": 0,
      "outputs": []
    },
    {
      "metadata": {
        "id": "eo0qRBoFWWl7",
        "colab_type": "code",
        "outputId": "634d399a-6fed-41da-fec9-68606c2f8488",
        "colab": {
          "base_uri": "https://localhost:8080/",
          "height": 320
        }
      },
      "cell_type": "code",
      "source": [
        "#download data on colab\n",
        "!wget https://raw.githubusercontent.com/yandexdataschool/Practical_DL/spring2019/week03_convnets/tiny_img.py -O tiny_img.py"
      ],
      "execution_count": 0,
      "outputs": [
        {
          "output_type": "stream",
          "text": [
            "--2019-03-15 11:21:36--  https://raw.githubusercontent.com/yandexdataschool/Practical_DL/spring2019/week03_convnets/tiny_img.py\n",
            "Resolving raw.githubusercontent.com (raw.githubusercontent.com)... 151.101.0.133, 151.101.64.133, 151.101.128.133, ...\n",
            "Connecting to raw.githubusercontent.com (raw.githubusercontent.com)|151.101.0.133|:443... connected.\n",
            "HTTP request sent, awaiting response... 200 OK\n",
            "Length: 3378 (3.3K) [text/plain]\n",
            "Saving to: ‘tiny_img.py’\n",
            "\n",
            "\rtiny_img.py           0%[                    ]       0  --.-KB/s               \rtiny_img.py         100%[===================>]   3.30K  --.-KB/s    in 0s      \n",
            "\n",
            "2019-03-15 11:21:36 (53.4 MB/s) - ‘tiny_img.py’ saved [3378/3378]\n",
            "\n"
          ],
          "name": "stdout"
        }
      ]
    },
    {
      "metadata": {
        "id": "4MsnQxyGVxwT",
        "colab_type": "code",
        "outputId": "4ebd5e2a-f7f9-4aa1-9a2b-c04a75b5857b",
        "colab": {
          "base_uri": "https://localhost:8080/",
          "height": 116
        }
      },
      "cell_type": "code",
      "source": [
        "#download dataset\n",
        "from tiny_img import download_tinyImg200\n",
        "data_path = '.'\n",
        "download_tinyImg200(data_path)"
      ],
      "execution_count": 0,
      "outputs": [
        {
          "output_type": "stream",
          "text": [
            "./tiny-imagenet-200.zip\n"
          ],
          "name": "stdout"
        }
      ]
    },
    {
      "metadata": {
        "id": "0YV3-fePVxwZ",
        "colab_type": "text"
      },
      "cell_type": "markdown",
      "source": [
        "Скрипт для перекладывания картинок в папке val"
      ]
    },
    {
      "metadata": {
        "id": "gJS80tH4Vxwa",
        "colab_type": "code",
        "outputId": "efa2ca61-13d3-483e-d6c5-5b6f144478c7",
        "colab": {
          "base_uri": "https://localhost:8080/",
          "height": 1020
        }
      },
      "cell_type": "code",
      "source": [
        "if os.path.exists('./tiny-imagenet-200/val/val_annotations.txt'):\n",
        "    classes = defaultdict(list)\n",
        "\n",
        "    with open('./tiny-imagenet-200/val/val_annotations.txt', 'r') as f:\n",
        "        for line in f:\n",
        "            line = line.strip()\n",
        "            name, clas, data = line.split('\\t', 2)\n",
        "            classes[clas].append(([name, data]))\n",
        "    \n",
        "    subprocess.call(['rm', '-r', './tiny-imagenet-200/val/val_annotations.txt'])\n",
        "\n",
        "    val_dir = os.path.join('tiny-imagenet-200', 'val', 'images')\n",
        "\n",
        "    for clas in tqdm(classes):\n",
        "    \n",
        "        subprocess.call(['mkdir', os.path.join('tiny-imagenet-200', 'val', clas)])\n",
        "        subprocess.call(['mkdir', os.path.join('tiny-imagenet-200', 'val', clas, 'images')])\n",
        "\n",
        "        new_dir = os.path.join('tiny-imagenet-200', 'val', clas)\n",
        "        new_file = os.path.join(new_dir, clas + '_boxes.txt')\n",
        "        new_dir = os.path.join(new_dir, 'images')\n",
        "\n",
        "        subprocess.call(['touch', new_file])\n",
        "        with open(new_file, 'w') as out:\n",
        "            for name, data in classes[clas]:\n",
        "                out.write(name + '\\t' + data + '\\n')\n",
        "                subprocess.call(['mv', os.path.join(val_dir, name), new_dir + '/'])\n",
        "    \n",
        "    subprocess.call(['rm', '-r', val_dir])"
      ],
      "execution_count": 0,
      "outputs": [
        {
          "output_type": "stream",
          "text": [
            "100%|██████████| 200/200 [01:34<00:00,  1.71it/s]\n"
          ],
          "name": "stderr"
        }
      ]
    },
    {
      "metadata": {
        "id": "PCFNwx1FVxwh",
        "colab_type": "code",
        "colab": {}
      },
      "cell_type": "code",
      "source": [
        "# a special module that converts [batch, channel, w, h] to [batch, units]\n",
        "class Flatten(nn.Module):\n",
        "    def forward(self, input):\n",
        "        return input.view(input.size(0), -1)"
      ],
      "execution_count": 0,
      "outputs": []
    },
    {
      "metadata": {
        "id": "aFlQuLI_Vxwk",
        "colab_type": "code",
        "colab": {}
      },
      "cell_type": "code",
      "source": [
        "def compute_loss(X_batch, y_batch):\n",
        "    X_batch = Variable(torch.FloatTensor(X_batch)).cuda()\n",
        "    y_batch = Variable(torch.LongTensor(y_batch)).cuda()\n",
        "    logits = model(X_batch)\n",
        "    return F.cross_entropy(logits, y_batch).mean()"
      ],
      "execution_count": 0,
      "outputs": []
    },
    {
      "metadata": {
        "id": "QV0jOfuNVxwn",
        "colab_type": "code",
        "colab": {}
      },
      "cell_type": "code",
      "source": [
        "means = np.array((0.4914, 0.4822, 0.4465))\n",
        "stds = np.array((0.2023, 0.1994, 0.2010))\n",
        "\n",
        "transform_augment = transforms.Compose([\n",
        "    torchvision.transforms.RandomCrop(64),\n",
        "    torchvision.transforms.RandomHorizontalFlip(),\n",
        "    transforms.ToTensor(),\n",
        "    torchvision.transforms.Normalize(means, stds),\n",
        "])\n",
        "\n",
        "dataset = torchvision.datasets.ImageFolder('tiny-imagenet-200/train', transform=transform_augment)"
      ],
      "execution_count": 0,
      "outputs": []
    },
    {
      "metadata": {
        "id": "xRvZYK7skMsD",
        "colab_type": "code",
        "colab": {}
      },
      "cell_type": "code",
      "source": [
        "#I change your spliting to increase train dataset\n",
        "train_dataset, val_dataset = torch.utils.data.random_split(dataset, [90000, 10000])"
      ],
      "execution_count": 0,
      "outputs": []
    },
    {
      "metadata": {
        "id": "pqtasCLfVxwq",
        "colab_type": "code",
        "outputId": "447303d9-b223-40b1-81a0-69ee90291d40",
        "colab": {
          "base_uri": "https://localhost:8080/",
          "height": 768
        }
      },
      "cell_type": "code",
      "source": [
        "model = nn.Sequential()\n",
        "model.add_module('conv1', nn.Conv2d(in_channels=3, out_channels=64, kernel_size=3, padding = 1, bias = False))\n",
        "model.add_module('norm1', nn.BatchNorm2d(64))\n",
        "model.add_module('relu1', nn.ReLU())\n",
        "model.add_module('pool1', nn.MaxPool2d(2))\n",
        "model.add_module('conv2', nn.Conv2d(in_channels=64, out_channels=128, kernel_size=3, padding = 1, bias = False))\n",
        "model.add_module('norm2', nn.BatchNorm2d(128))\n",
        "model.add_module('relu2', nn.ReLU())\n",
        "model.add_module('pool2', nn.MaxPool2d(2))\n",
        "model.add_module('conv3', nn.Conv2d(in_channels=128, out_channels=256, kernel_size=3, padding = 1, bias = False))\n",
        "model.add_module('norm3', nn.BatchNorm2d(256))\n",
        "model.add_module('relu3', nn.ReLU())\n",
        "model.add_module('conv4', nn.Conv2d(in_channels=256, out_channels=512, kernel_size=3, padding = 1, bias = False))\n",
        "model.add_module('norm4', nn.BatchNorm2d(512))\n",
        "model.add_module('relu4', nn.ReLU())\n",
        "model.add_module('pool3', nn.MaxPool2d(2))\n",
        "model.add_module('flat', Flatten())\n",
        "model.add_module('linear_-3', nn.Linear(16384 * 2, 4096 * 2))\n",
        "model.add_module('norm_-2', nn.BatchNorm1d(4096 * 2))\n",
        "model.add_module('relu_-2', nn.ReLU())\n",
        "model.add_module('droput_-2', nn.Dropout(0.5))\n",
        "model.add_module('linear_-2', nn.Linear(4096 * 2, 500))\n",
        "model.add_module('norm_-1', nn.BatchNorm1d(500))\n",
        "model.add_module('relu_-1', nn.ReLU())\n",
        "model.add_module('droput_-1', nn.Dropout(0.5))\n",
        "\n",
        "\n",
        "model.add_module('dense1_logits', nn.Linear(500, 200)) # logits for 200 classes\n",
        "model = model.cuda()\n",
        "summary(model, (3, 64, 64))"
      ],
      "execution_count": 0,
      "outputs": [
        {
          "output_type": "stream",
          "text": [
            "----------------------------------------------------------------\n",
            "        Layer (type)               Output Shape         Param #\n",
            "================================================================\n",
            "            Conv2d-1           [-1, 64, 64, 64]           1,728\n",
            "       BatchNorm2d-2           [-1, 64, 64, 64]             128\n",
            "              ReLU-3           [-1, 64, 64, 64]               0\n",
            "         MaxPool2d-4           [-1, 64, 32, 32]               0\n",
            "            Conv2d-5          [-1, 128, 32, 32]          73,728\n",
            "       BatchNorm2d-6          [-1, 128, 32, 32]             256\n",
            "              ReLU-7          [-1, 128, 32, 32]               0\n",
            "         MaxPool2d-8          [-1, 128, 16, 16]               0\n",
            "            Conv2d-9          [-1, 256, 16, 16]         294,912\n",
            "      BatchNorm2d-10          [-1, 256, 16, 16]             512\n",
            "             ReLU-11          [-1, 256, 16, 16]               0\n",
            "           Conv2d-12          [-1, 512, 16, 16]       1,179,648\n",
            "      BatchNorm2d-13          [-1, 512, 16, 16]           1,024\n",
            "             ReLU-14          [-1, 512, 16, 16]               0\n",
            "        MaxPool2d-15            [-1, 512, 8, 8]               0\n",
            "          Flatten-16                [-1, 32768]               0\n",
            "           Linear-17                 [-1, 8192]     268,443,648\n",
            "      BatchNorm1d-18                 [-1, 8192]          16,384\n",
            "             ReLU-19                 [-1, 8192]               0\n",
            "          Dropout-20                 [-1, 8192]               0\n",
            "           Linear-21                  [-1, 500]       4,096,500\n",
            "      BatchNorm1d-22                  [-1, 500]           1,000\n",
            "             ReLU-23                  [-1, 500]               0\n",
            "          Dropout-24                  [-1, 500]               0\n",
            "           Linear-25                  [-1, 200]         100,200\n",
            "================================================================\n",
            "Total params: 274,209,668\n",
            "Trainable params: 274,209,668\n",
            "Non-trainable params: 0\n",
            "----------------------------------------------------------------\n",
            "Input size (MB): 0.05\n",
            "Forward/backward pass size (MB): 15.02\n",
            "Params size (MB): 1046.03\n",
            "Estimated Total Size (MB): 1061.09\n",
            "----------------------------------------------------------------\n"
          ],
          "name": "stdout"
        }
      ]
    },
    {
      "metadata": {
        "id": "h8w4hTJ4Vxwu",
        "colab_type": "code",
        "colab": {}
      },
      "cell_type": "code",
      "source": [
        "opt = torch.optim.Adagrad(model.parameters(), lr = 0.01)\n",
        "\n",
        "train_loss = []\n",
        "val_accuracy = []"
      ],
      "execution_count": 0,
      "outputs": []
    },
    {
      "metadata": {
        "id": "QFbQ7oG-Vxwx",
        "colab_type": "code",
        "outputId": "8b779f90-2f15-4d8d-f45d-c9ce30489fef",
        "colab": {
          "base_uri": "https://localhost:8080/",
          "height": 1111
        }
      },
      "cell_type": "code",
      "source": [
        "import time\n",
        "num_epochs = 15 # total amount of full passes over training data\n",
        "batch_size = 100  # number of samples processed in one SGD iteration\n",
        "\n",
        "train_batch_gen = torch.utils.data.DataLoader(train_dataset, \n",
        "                                              batch_size=batch_size,\n",
        "                                              shuffle=True,\n",
        "                                              num_workers=1)\n",
        "val_batch_gen = torch.utils.data.DataLoader(val_dataset, \n",
        "                                              batch_size=batch_size,\n",
        "                                              shuffle=True,\n",
        "                                              num_workers=1)\n",
        "\n",
        "for epoch in tqdm(range(num_epochs)):\n",
        "    # In each epoch, we do a full pass over the training data:\n",
        "    start_time = time.time()\n",
        "    model.train(True) # enable dropout / batch_norm training behavior\n",
        "    for (X_batch, y_batch) in train_batch_gen:\n",
        "        # train on batch\n",
        "        loss = compute_loss(X_batch, y_batch)\n",
        "        loss.backward()\n",
        "        opt.step()\n",
        "        opt.zero_grad()\n",
        "        train_loss.append(loss.cpu().data.numpy())\n",
        "    print(epoch)    \n",
        "    model.train(False) # disable dropout / use averages for batch_norm\n",
        "    for X_batch, y_batch in val_batch_gen:\n",
        "        logits = model(Variable(torch.FloatTensor(X_batch)).cuda())\n",
        "        y_pred = logits.max(1)[1].data\n",
        "        val_accuracy.append(np.mean( (y_batch.cpu() == y_pred.cpu()).numpy() ))\n",
        "\n",
        "    # Then we print the results for this epoch:\n",
        "    print(\"Epoch {} of {} took {:.3f}s\".format(\n",
        "        epoch + 1, num_epochs, time.time() - start_time))\n",
        "    print(\"  training loss (in-iteration): \\t{:.6f}\".format(\n",
        "        np.mean(train_loss[-len(train_dataset) // batch_size :])))\n",
        "    print(\"  validation accuracy: \\t\\t\\t{:.2f} %\".format(\n",
        "        np.mean(val_accuracy[-len(val_dataset) // batch_size :]) * 100))"
      ],
      "execution_count": 0,
      "outputs": [
        {
          "output_type": "stream",
          "text": [
            "\r  0%|          | 0/15 [00:00<?, ?it/s]"
          ],
          "name": "stderr"
        },
        {
          "output_type": "stream",
          "text": [
            "0\n"
          ],
          "name": "stdout"
        },
        {
          "output_type": "stream",
          "text": [
            "\r  7%|▋         | 1/15 [06:47<1:34:58, 407.03s/it]"
          ],
          "name": "stderr"
        },
        {
          "output_type": "stream",
          "text": [
            "Epoch 1 of 15 took 407.028s\n",
            "  training loss (in-iteration): \t4.311684\n",
            "  validation accuracy: \t\t\t18.57 %\n",
            "1\n"
          ],
          "name": "stdout"
        },
        {
          "output_type": "stream",
          "text": [
            "\r 13%|█▎        | 2/15 [13:34<1:28:13, 407.16s/it]"
          ],
          "name": "stderr"
        },
        {
          "output_type": "stream",
          "text": [
            "Epoch 2 of 15 took 407.472s\n",
            "  training loss (in-iteration): \t3.545629\n",
            "  validation accuracy: \t\t\t24.98 %\n",
            "2\n"
          ],
          "name": "stdout"
        },
        {
          "output_type": "stream",
          "text": [
            "\r 20%|██        | 3/15 [20:22<1:21:27, 407.26s/it]"
          ],
          "name": "stderr"
        },
        {
          "output_type": "stream",
          "text": [
            "Epoch 3 of 15 took 407.499s\n",
            "  training loss (in-iteration): \t3.225499\n",
            "  validation accuracy: \t\t\t29.21 %\n",
            "3\n"
          ],
          "name": "stdout"
        },
        {
          "output_type": "stream",
          "text": [
            "\r 27%|██▋       | 4/15 [27:09<1:14:40, 407.28s/it]"
          ],
          "name": "stderr"
        },
        {
          "output_type": "stream",
          "text": [
            "Epoch 4 of 15 took 407.329s\n",
            "  training loss (in-iteration): \t3.003035\n",
            "  validation accuracy: \t\t\t32.02 %\n",
            "4\n"
          ],
          "name": "stdout"
        },
        {
          "output_type": "stream",
          "text": [
            "\r 33%|███▎      | 5/15 [33:56<1:07:53, 407.39s/it]"
          ],
          "name": "stderr"
        },
        {
          "output_type": "stream",
          "text": [
            "Epoch 5 of 15 took 407.633s\n",
            "  training loss (in-iteration): \t2.815432\n",
            "  validation accuracy: \t\t\t34.28 %\n",
            "5\n"
          ],
          "name": "stdout"
        },
        {
          "output_type": "stream",
          "text": [
            "\r 40%|████      | 6/15 [40:44<1:01:07, 407.50s/it]"
          ],
          "name": "stderr"
        },
        {
          "output_type": "stream",
          "text": [
            "Epoch 6 of 15 took 407.763s\n",
            "  training loss (in-iteration): \t2.643972\n",
            "  validation accuracy: \t\t\t36.59 %\n",
            "6\n"
          ],
          "name": "stdout"
        },
        {
          "output_type": "stream",
          "text": [
            "\r 47%|████▋     | 7/15 [47:32<54:20, 407.54s/it]  "
          ],
          "name": "stderr"
        },
        {
          "output_type": "stream",
          "text": [
            "Epoch 7 of 15 took 407.611s\n",
            "  training loss (in-iteration): \t2.488070\n",
            "  validation accuracy: \t\t\t37.43 %\n",
            "7\n"
          ],
          "name": "stdout"
        },
        {
          "output_type": "stream",
          "text": [
            "\r 53%|█████▎    | 8/15 [54:18<47:30, 407.20s/it]"
          ],
          "name": "stderr"
        },
        {
          "output_type": "stream",
          "text": [
            "Epoch 8 of 15 took 406.403s\n",
            "  training loss (in-iteration): \t2.334670\n",
            "  validation accuracy: \t\t\t38.82 %\n",
            "8\n"
          ],
          "name": "stdout"
        },
        {
          "output_type": "stream",
          "text": [
            "\r 60%|██████    | 9/15 [1:01:04<40:41, 406.86s/it]"
          ],
          "name": "stderr"
        },
        {
          "output_type": "stream",
          "text": [
            "Epoch 9 of 15 took 406.076s\n",
            "  training loss (in-iteration): \t2.182929\n",
            "  validation accuracy: \t\t\t39.98 %\n",
            "9\n"
          ],
          "name": "stdout"
        },
        {
          "output_type": "stream",
          "text": [
            "\r 67%|██████▋   | 10/15 [1:07:50<33:53, 406.61s/it]"
          ],
          "name": "stderr"
        },
        {
          "output_type": "stream",
          "text": [
            "Epoch 10 of 15 took 406.021s\n",
            "  training loss (in-iteration): \t2.018911\n",
            "  validation accuracy: \t\t\t40.45 %\n",
            "10\n"
          ],
          "name": "stdout"
        },
        {
          "output_type": "stream",
          "text": [
            "\r 73%|███████▎  | 11/15 [1:14:38<27:07, 406.90s/it]"
          ],
          "name": "stderr"
        },
        {
          "output_type": "stream",
          "text": [
            "Epoch 11 of 15 took 407.569s\n",
            "  training loss (in-iteration): \t1.867688\n",
            "  validation accuracy: \t\t\t41.51 %\n",
            "11\n"
          ],
          "name": "stdout"
        },
        {
          "output_type": "stream",
          "text": [
            "\r 80%|████████  | 12/15 [1:21:26<20:21, 407.10s/it]"
          ],
          "name": "stderr"
        },
        {
          "output_type": "stream",
          "text": [
            "Epoch 12 of 15 took 407.575s\n",
            "  training loss (in-iteration): \t1.708401\n",
            "  validation accuracy: \t\t\t41.13 %\n",
            "12\n"
          ],
          "name": "stdout"
        },
        {
          "output_type": "stream",
          "text": [
            "\r 87%|████████▋ | 13/15 [1:28:13<13:34, 407.24s/it]"
          ],
          "name": "stderr"
        },
        {
          "output_type": "stream",
          "text": [
            "Epoch 13 of 15 took 407.554s\n",
            "  training loss (in-iteration): \t1.553635\n",
            "  validation accuracy: \t\t\t41.80 %\n",
            "13\n"
          ],
          "name": "stdout"
        },
        {
          "output_type": "stream",
          "text": [
            "\r 93%|█████████▎| 14/15 [1:35:01<06:47, 407.32s/it]"
          ],
          "name": "stderr"
        },
        {
          "output_type": "stream",
          "text": [
            "Epoch 14 of 15 took 407.514s\n",
            "  training loss (in-iteration): \t1.393456\n",
            "  validation accuracy: \t\t\t41.69 %\n",
            "14\n"
          ],
          "name": "stdout"
        },
        {
          "output_type": "stream",
          "text": [
            "\r100%|██████████| 15/15 [1:41:48<00:00, 407.42s/it]"
          ],
          "name": "stderr"
        },
        {
          "output_type": "stream",
          "text": [
            "Epoch 15 of 15 took 407.633s\n",
            "  training loss (in-iteration): \t1.242678\n",
            "  validation accuracy: \t\t\t42.43 %\n"
          ],
          "name": "stdout"
        },
        {
          "output_type": "stream",
          "text": [
            "\n"
          ],
          "name": "stderr"
        }
      ]
    },
    {
      "metadata": {
        "id": "BUjJ6emRVxw0",
        "colab_type": "text"
      },
      "cell_type": "markdown",
      "source": [
        "When everything is done, please calculate accuracy on `tiny-imagenet-200/val`"
      ]
    },
    {
      "metadata": {
        "id": "1BJrUNXXVxw1",
        "colab_type": "code",
        "colab": {}
      },
      "cell_type": "code",
      "source": [
        "transform_test = transforms.Compose([\n",
        "    transforms.ToTensor(),\n",
        "    transforms.Normalize(means, stds),\n",
        "])\n",
        "\n",
        "batch_size = 100\n",
        "test_dataset = torchvision.datasets.ImageFolder('tiny-imagenet-200/val', transform=transform_test)\n",
        "test_batch_gen = torch.utils.data.DataLoader(test_dataset, \n",
        "                                              batch_size=batch_size,\n",
        "                                              shuffle=True,\n",
        "                                              num_workers=1)\n",
        "\n",
        "model.train(False) # disable dropout / use averages for batch_norm\n",
        "test_batch_acc = []\n",
        "for X_batch, y_batch in test_batch_gen:\n",
        "    logits = model(Variable(torch.FloatTensor(X_batch)).cuda())\n",
        "    y_pred = logits.max(1)[1].data\n",
        "    test_batch_acc.append(np.mean( (y_batch.cpu().data == y_pred.cpu().data).numpy() ))\n",
        "\n",
        "\n",
        "test_accuracy = np.mean(test_batch_acc)"
      ],
      "execution_count": 0,
      "outputs": []
    },
    {
      "metadata": {
        "id": "W-86dZem3Twx",
        "colab_type": "code",
        "colab": {
          "base_uri": "https://localhost:8080/",
          "height": 91
        },
        "outputId": "2dd6cd67-dd37-479c-8e26-4f7c92ce5a64"
      },
      "cell_type": "code",
      "source": [
        "print(\"Final results:\")\n",
        "print(\"  test accuracy:\\t\\t{:.2f} %\".format(\n",
        "    test_accuracy * 100))\n",
        "\n",
        "if test_accuracy * 100 > 40:\n",
        "    print(\"Achievement unlocked: 110lvl Warlock!\")\n",
        "elif test_accuracy * 100 > 35:\n",
        "    print(\"Achievement unlocked: 80lvl Warlock!\")\n",
        "elif test_accuracy * 100 > 30:\n",
        "    print(\"Achievement unlocked: 70lvl Warlock!\")\n",
        "elif test_accuracy * 100 > 25:\n",
        "    print(\"Achievement unlocked: 60lvl Warlock!\")\n",
        "else:\n",
        "    print(\"We need more magic! Follow instructons below\")"
      ],
      "execution_count": 33,
      "outputs": [
        {
          "output_type": "stream",
          "text": [
            "Final results:\n",
            "  test accuracy:\t\t42.08 %\n",
            "Achievement unlocked: 110lvl Warlock!\n"
          ],
          "name": "stdout"
        }
      ]
    },
    {
      "metadata": {
        "id": "b8NcoPbDlqW6",
        "colab_type": "code",
        "colab": {}
      },
      "cell_type": "code",
      "source": [
        "import matplotlib.pyplot as plt\n",
        "import seaborn as sb\n",
        "plt.style.use('seaborn')\n",
        "plt.rcParams[\"figure.figsize\"] = (10, 8)"
      ],
      "execution_count": 0,
      "outputs": []
    },
    {
      "metadata": {
        "id": "sgs2XjQdnKl8",
        "colab_type": "code",
        "outputId": "f8deeb84-4dce-44c0-a62d-fe6b8de8ed95",
        "colab": {
          "base_uri": "https://localhost:8080/",
          "height": 544
        }
      },
      "cell_type": "code",
      "source": [
        "plt.plot(range(len(train_loss)), train_loss)\n",
        "plt.xlabel('Iterations', fontsize = 20)\n",
        "plt.ylabel('Loss', fontsize = 20)\n",
        "plt.title('Loss on train', fontsize = 20)"
      ],
      "execution_count": 35,
      "outputs": [
        {
          "output_type": "execute_result",
          "data": {
            "text/plain": [
              "Text(0.5, 1.0, 'Loss on train')"
            ]
          },
          "metadata": {
            "tags": []
          },
          "execution_count": 35
        },
        {
          "output_type": "display_data",
          "data": {
            "image/png": "[encoded data removed]",
            "text/plain": [
              "<Figure size 720x576 with 1 Axes>"
            ]
          },
          "metadata": {
            "tags": []
          }
        }
      ]
    },
    {
      "metadata": {
        "id": "FgfWHvErnfUG",
        "colab_type": "code",
        "colab": {}
      },
      "cell_type": "code",
      "source": [
        "train_loss_epochs = []\n",
        "step = len(train_loss) // num_epochs\n",
        "for i in range(0, len(train_loss), step):\n",
        "  ssum = sum(train_loss[i : i + step])\n",
        "  train_loss_epochs.append(ssum / step)"
      ],
      "execution_count": 0,
      "outputs": []
    },
    {
      "metadata": {
        "id": "LXFNZQGpoUgX",
        "colab_type": "code",
        "outputId": "5f47ede9-3ddf-4611-9780-9b92c2bd385a",
        "colab": {
          "base_uri": "https://localhost:8080/",
          "height": 544
        }
      },
      "cell_type": "code",
      "source": [
        "plt.plot(range(len(train_loss_epochs)), train_loss_epochs)\n",
        "plt.xlabel('Epochs', fontsize = 20)\n",
        "plt.ylabel('Mean Loss', fontsize = 20)\n",
        "plt.title('Loss on train', fontsize = 20)"
      ],
      "execution_count": 37,
      "outputs": [
        {
          "output_type": "execute_result",
          "data": {
            "text/plain": [
              "Text(0.5, 1.0, 'Loss on train')"
            ]
          },
          "metadata": {
            "tags": []
          },
          "execution_count": 37
        },
        {
          "output_type": "display_data",
          "data": {
            "image/png": "[encoded data removed]",
            "text/plain": [
              "<Figure size 720x576 with 1 Axes>"
            ]
          },
          "metadata": {
            "tags": []
          }
        }
      ]
    },
    {
      "metadata": {
        "id": "frnvYUCu4DuO",
        "colab_type": "code",
        "colab": {}
      },
      "cell_type": "code",
      "source": [
        "val_acc_epochs = []\n",
        "step = len(val_accuracy) // num_epochs\n",
        "for i in range(0, len(val_accuracy), step):\n",
        "  val_acc_epochs.append(np.mean(val_accuracy[i : i + step]))"
      ],
      "execution_count": 0,
      "outputs": []
    },
    {
      "metadata": {
        "id": "en-AHfrxndGs",
        "colab_type": "code",
        "outputId": "0e5ad4df-1604-43dc-dc67-0b79cf059057",
        "colab": {
          "base_uri": "https://localhost:8080/",
          "height": 544
        }
      },
      "cell_type": "code",
      "source": [
        "plt.plot(range(len(val_acc_epochs)), val_acc_epochs)\n",
        "plt.xlabel('Batches', fontsize = 20)\n",
        "plt.ylabel('Val Accuracy', fontsize = 20)\n",
        "plt.title('Accuracy on val', fontsize = 20)"
      ],
      "execution_count": 39,
      "outputs": [
        {
          "output_type": "execute_result",
          "data": {
            "text/plain": [
              "Text(0.5, 1.0, 'Accuracy on val')"
            ]
          },
          "metadata": {
            "tags": []
          },
          "execution_count": 39
        },
        {
          "output_type": "display_data",
          "data": {
            "image/png": "[encoded data removed]",
            "text/plain": [
              "<Figure size 720x576 with 1 Axes>"
            ]
          },
          "metadata": {
            "tags": []
          }
        }
      ]
    },
    {
      "metadata": {
        "id": "XSrhWTv29Jh5",
        "colab_type": "text"
      },
      "cell_type": "markdown",
      "source": [
        "Как видим accuracy растет. Возможно можно попытатсья еще обучить и посмотреть, что получится. Давайте добавим еще 5 эпох"
      ]
    },
    {
      "metadata": {
        "id": "rhaCA8Mg9Qxz",
        "colab_type": "code",
        "colab": {
          "base_uri": "https://localhost:8080/",
          "height": 387
        },
        "outputId": "a7c92f88-7362-45a0-8e02-4aa47cddfe23"
      },
      "cell_type": "code",
      "source": [
        "num_epochs = 5 # total amount of full passes over training data\n",
        "batch_size = 100  # number of samples processed in one SGD iteration\n",
        "\n",
        "train_batch_gen = torch.utils.data.DataLoader(train_dataset, \n",
        "                                              batch_size=batch_size,\n",
        "                                              shuffle=True,\n",
        "                                              num_workers=1)\n",
        "val_batch_gen = torch.utils.data.DataLoader(val_dataset, \n",
        "                                              batch_size=batch_size,\n",
        "                                              shuffle=True,\n",
        "                                              num_workers=1)\n",
        "\n",
        "for epoch in tqdm(range(num_epochs)):\n",
        "    # In each epoch, we do a full pass over the training data:\n",
        "    start_time = time.time()\n",
        "    model.train(True) # enable dropout / batch_norm training behavior\n",
        "    for (X_batch, y_batch) in train_batch_gen:\n",
        "        # train on batch\n",
        "        loss = compute_loss(X_batch, y_batch)\n",
        "        loss.backward()\n",
        "        opt.step()\n",
        "        opt.zero_grad()\n",
        "        train_loss.append(loss.cpu().data.numpy())\n",
        "    print(epoch)    \n",
        "    model.train(False) # disable dropout / use averages for batch_norm\n",
        "    for X_batch, y_batch in val_batch_gen:\n",
        "        logits = model(Variable(torch.FloatTensor(X_batch)).cuda())\n",
        "        y_pred = logits.max(1)[1].data\n",
        "        val_accuracy.append(np.mean( (y_batch.cpu() == y_pred.cpu()).numpy() ))\n",
        "\n",
        "    # Then we print the results for this epoch:\n",
        "    print(\"Epoch {} of {} took {:.3f}s\".format(\n",
        "        epoch + 1, num_epochs, time.time() - start_time))\n",
        "    print(\"  training loss (in-iteration): \\t{:.6f}\".format(\n",
        "        np.mean(train_loss[-len(train_dataset) // batch_size :])))\n",
        "    print(\"  validation accuracy: \\t\\t\\t{:.2f} %\".format(\n",
        "        np.mean(val_accuracy[-len(val_dataset) // batch_size :]) * 100))"
      ],
      "execution_count": 40,
      "outputs": [
        {
          "output_type": "stream",
          "text": [
            "\r  0%|          | 0/5 [00:00<?, ?it/s]"
          ],
          "name": "stderr"
        },
        {
          "output_type": "stream",
          "text": [
            "0\n"
          ],
          "name": "stdout"
        },
        {
          "output_type": "stream",
          "text": [
            "\r 20%|██        | 1/5 [06:49<27:17, 409.42s/it]"
          ],
          "name": "stderr"
        },
        {
          "output_type": "stream",
          "text": [
            "Epoch 1 of 5 took 409.422s\n",
            "  training loss (in-iteration): \t1.098661\n",
            "  validation accuracy: \t\t\t41.91 %\n",
            "1\n"
          ],
          "name": "stdout"
        },
        {
          "output_type": "stream",
          "text": [
            "\r 40%|████      | 2/5 [13:38<20:28, 409.40s/it]"
          ],
          "name": "stderr"
        },
        {
          "output_type": "stream",
          "text": [
            "Epoch 2 of 5 took 409.333s\n",
            "  training loss (in-iteration): \t0.966750\n",
            "  validation accuracy: \t\t\t42.38 %\n",
            "2\n"
          ],
          "name": "stdout"
        },
        {
          "output_type": "stream",
          "text": [
            "\r 60%|██████    | 3/5 [20:28<13:39, 409.51s/it]"
          ],
          "name": "stderr"
        },
        {
          "output_type": "stream",
          "text": [
            "Epoch 3 of 5 took 409.774s\n",
            "  training loss (in-iteration): \t0.835402\n",
            "  validation accuracy: \t\t\t42.04 %\n",
            "3\n"
          ],
          "name": "stdout"
        },
        {
          "output_type": "stream",
          "text": [
            "\r 80%|████████  | 4/5 [27:18<06:49, 409.59s/it]"
          ],
          "name": "stderr"
        },
        {
          "output_type": "stream",
          "text": [
            "Epoch 4 of 5 took 409.761s\n",
            "  training loss (in-iteration): \t0.734436\n",
            "  validation accuracy: \t\t\t42.56 %\n",
            "4\n"
          ],
          "name": "stdout"
        },
        {
          "output_type": "stream",
          "text": [
            "\r100%|██████████| 5/5 [34:08<00:00, 409.65s/it]"
          ],
          "name": "stderr"
        },
        {
          "output_type": "stream",
          "text": [
            "Epoch 5 of 5 took 409.803s\n",
            "  training loss (in-iteration): \t0.636197\n",
            "  validation accuracy: \t\t\t42.13 %\n"
          ],
          "name": "stdout"
        },
        {
          "output_type": "stream",
          "text": [
            "\n"
          ],
          "name": "stderr"
        }
      ]
    },
    {
      "metadata": {
        "id": "Cg5Oc_uhFmS9",
        "colab_type": "code",
        "colab": {
          "base_uri": "https://localhost:8080/",
          "height": 76
        },
        "outputId": "a745d583-2cb9-4ab7-bcac-1fd88b108a17"
      },
      "cell_type": "code",
      "source": [
        "transform_test = transforms.Compose([\n",
        "    transforms.ToTensor(),\n",
        "    transforms.Normalize(means, stds),\n",
        "])\n",
        "\n",
        "batch_size = 100\n",
        "test_dataset = torchvision.datasets.ImageFolder('tiny-imagenet-200/val', transform=transform_test)\n",
        "test_batch_gen = torch.utils.data.DataLoader(test_dataset, \n",
        "                                              batch_size=batch_size,\n",
        "                                              shuffle=True,\n",
        "                                              num_workers=1)\n",
        "\n",
        "model.train(False) # disable dropout / use averages for batch_norm\n",
        "test_batch_acc = []\n",
        "for X_batch, y_batch in test_batch_gen:\n",
        "    logits = model(Variable(torch.FloatTensor(X_batch)).cuda())\n",
        "    y_pred = logits.max(1)[1].data\n",
        "    test_batch_acc.append(np.mean( (y_batch.cpu().data == y_pred.cpu().data).numpy() ))\n",
        "\n",
        "\n",
        "print('test_accuracy = {}'.format(np.mean(test_batch_acc)))"
      ],
      "execution_count": 41,
      "outputs": [
        {
          "output_type": "stream",
          "text": [
            "test_accuracy = 0.4178\n"
          ],
          "name": "stdout"
        }
      ]
    },
    {
      "metadata": {
        "id": "ei9TDUFPGgd8",
        "colab_type": "text"
      },
      "cell_type": "markdown",
      "source": [
        "Как видим качество на тесте упало. Давайте посмотрим на график val_acc"
      ]
    },
    {
      "metadata": {
        "id": "YKLXKo8sGyjC",
        "colab_type": "code",
        "colab": {}
      },
      "cell_type": "code",
      "source": [
        "val_acc_epochs = []\n",
        "step = len(val_accuracy) // 20\n",
        "for i in range(0, len(val_accuracy), step):\n",
        "  val_acc_epochs.append(np.mean(val_accuracy[i : i + step]))"
      ],
      "execution_count": 0,
      "outputs": []
    },
    {
      "metadata": {
        "id": "r5Pwl4XEG176",
        "colab_type": "code",
        "colab": {
          "base_uri": "https://localhost:8080/",
          "height": 544
        },
        "outputId": "5d04bb8a-a63e-4598-d9e9-0b345c54799d"
      },
      "cell_type": "code",
      "source": [
        "plt.plot(range(len(val_acc_epochs)), val_acc_epochs)\n",
        "plt.xlabel('Batches', fontsize = 20)\n",
        "plt.ylabel('Val Accuracy', fontsize = 20)\n",
        "plt.title('Accuracy on val', fontsize = 20)"
      ],
      "execution_count": 43,
      "outputs": [
        {
          "output_type": "execute_result",
          "data": {
            "text/plain": [
              "Text(0.5, 1.0, 'Accuracy on val')"
            ]
          },
          "metadata": {
            "tags": []
          },
          "execution_count": 43
        },
        {
          "output_type": "display_data",
          "data": {
            "image/png": "[encoded data removed]",
            "text/plain": [
              "<Figure size 720x576 with 1 Axes>"
            ]
          },
          "metadata": {
            "tags": []
          }
        }
      ]
    },
    {
      "metadata": {
        "id": "obPkTR60G5xR",
        "colab_type": "text"
      },
      "cell_type": "markdown",
      "source": [
        "Легко заметить, что качество вышло почти на плато. При этом loss на трейне все также убывает (посмотрим на график)"
      ]
    },
    {
      "metadata": {
        "id": "dpveJBwkHA8c",
        "colab_type": "code",
        "colab": {
          "base_uri": "https://localhost:8080/",
          "height": 544
        },
        "outputId": "d0b800ed-572e-439e-c803-fd4158e47f8c"
      },
      "cell_type": "code",
      "source": [
        "plt.plot(range(len(train_loss)), train_loss)\n",
        "plt.xlabel('Iterations', fontsize = 20)\n",
        "plt.ylabel('Loss', fontsize = 20)\n",
        "plt.title('Loss on train', fontsize = 20)"
      ],
      "execution_count": 44,
      "outputs": [
        {
          "output_type": "execute_result",
          "data": {
            "text/plain": [
              "Text(0.5, 1.0, 'Loss on train')"
            ]
          },
          "metadata": {
            "tags": []
          },
          "execution_count": 44
        },
        {
          "output_type": "display_data",
          "data": {
            "image/png": "[encoded data removed]",
            "text/plain": [
              "<Figure size 720x576 with 1 Axes>"
            ]
          },
          "metadata": {
            "tags": []
          }
        }
      ]
    },
    {
      "metadata": {
        "id": "4vplDwC9HHvt",
        "colab_type": "text"
      },
      "cell_type": "markdown",
      "source": [
        "Давайте сделаем еще 5 (полседних эпох) и посомтри как ведет себя val acc. На самом деле интересно, начнет ли оно убывать или останется на плато."
      ]
    },
    {
      "metadata": {
        "id": "34jO-kiTHWJN",
        "colab_type": "code",
        "colab": {
          "base_uri": "https://localhost:8080/",
          "height": 387
        },
        "outputId": "21efa2fd-a4a1-4414-d7fb-1cb7b15f80c6"
      },
      "cell_type": "code",
      "source": [
        "num_epochs = 5 # total amount of full passes over training data\n",
        "batch_size = 100  # number of samples processed in one SGD iteration\n",
        "\n",
        "train_batch_gen = torch.utils.data.DataLoader(train_dataset, \n",
        "                                              batch_size=batch_size,\n",
        "                                              shuffle=True,\n",
        "                                              num_workers=1)\n",
        "val_batch_gen = torch.utils.data.DataLoader(val_dataset, \n",
        "                                              batch_size=batch_size,\n",
        "                                              shuffle=True,\n",
        "                                              num_workers=1)\n",
        "\n",
        "for epoch in tqdm(range(num_epochs)):\n",
        "    # In each epoch, we do a full pass over the training data:\n",
        "    start_time = time.time()\n",
        "    model.train(True) # enable dropout / batch_norm training behavior\n",
        "    for (X_batch, y_batch) in train_batch_gen:\n",
        "        # train on batch\n",
        "        loss = compute_loss(X_batch, y_batch)\n",
        "        loss.backward()\n",
        "        opt.step()\n",
        "        opt.zero_grad()\n",
        "        train_loss.append(loss.cpu().data.numpy())\n",
        "    print(epoch)    \n",
        "    model.train(False) # disable dropout / use averages for batch_norm\n",
        "    for X_batch, y_batch in val_batch_gen:\n",
        "        logits = model(Variable(torch.FloatTensor(X_batch)).cuda())\n",
        "        y_pred = logits.max(1)[1].data\n",
        "        val_accuracy.append(np.mean( (y_batch.cpu() == y_pred.cpu()).numpy() ))\n",
        "\n",
        "    # Then we print the results for this epoch:\n",
        "    print(\"Epoch {} of {} took {:.3f}s\".format(\n",
        "        epoch + 1, num_epochs, time.time() - start_time))\n",
        "    print(\"  training loss (in-iteration): \\t{:.6f}\".format(\n",
        "        np.mean(train_loss[-len(train_dataset) // batch_size :])))\n",
        "    print(\"  validation accuracy: \\t\\t\\t{:.2f} %\".format(\n",
        "        np.mean(val_accuracy[-len(val_dataset) // batch_size :]) * 100))"
      ],
      "execution_count": 45,
      "outputs": [
        {
          "output_type": "stream",
          "text": [
            "\r  0%|          | 0/5 [00:00<?, ?it/s]"
          ],
          "name": "stderr"
        },
        {
          "output_type": "stream",
          "text": [
            "0\n"
          ],
          "name": "stdout"
        },
        {
          "output_type": "stream",
          "text": [
            "\r 20%|██        | 1/5 [06:49<27:17, 409.39s/it]"
          ],
          "name": "stderr"
        },
        {
          "output_type": "stream",
          "text": [
            "Epoch 1 of 5 took 409.390s\n",
            "  training loss (in-iteration): \t0.556692\n",
            "  validation accuracy: \t\t\t42.41 %\n",
            "1\n"
          ],
          "name": "stdout"
        },
        {
          "output_type": "stream",
          "text": [
            "\r 40%|████      | 2/5 [13:38<20:27, 409.19s/it]"
          ],
          "name": "stderr"
        },
        {
          "output_type": "stream",
          "text": [
            "Epoch 2 of 5 took 408.724s\n",
            "  training loss (in-iteration): \t0.476953\n",
            "  validation accuracy: \t\t\t42.38 %\n",
            "2\n"
          ],
          "name": "stdout"
        },
        {
          "output_type": "stream",
          "text": [
            "\r 60%|██████    | 3/5 [20:23<13:36, 408.17s/it]"
          ],
          "name": "stderr"
        },
        {
          "output_type": "stream",
          "text": [
            "Epoch 3 of 5 took 405.788s\n",
            "  training loss (in-iteration): \t0.418222\n",
            "  validation accuracy: \t\t\t42.34 %\n",
            "3\n"
          ],
          "name": "stdout"
        },
        {
          "output_type": "stream",
          "text": [
            "\r 80%|████████  | 4/5 [27:09<06:47, 407.47s/it]"
          ],
          "name": "stderr"
        },
        {
          "output_type": "stream",
          "text": [
            "Epoch 4 of 5 took 405.834s\n",
            "  training loss (in-iteration): \t0.365455\n",
            "  validation accuracy: \t\t\t41.78 %\n",
            "4\n"
          ],
          "name": "stdout"
        },
        {
          "output_type": "stream",
          "text": [
            "\r100%|██████████| 5/5 [33:55<00:00, 407.04s/it]"
          ],
          "name": "stderr"
        },
        {
          "output_type": "stream",
          "text": [
            "Epoch 5 of 5 took 406.020s\n",
            "  training loss (in-iteration): \t0.322667\n",
            "  validation accuracy: \t\t\t42.60 %\n"
          ],
          "name": "stdout"
        },
        {
          "output_type": "stream",
          "text": [
            "\n"
          ],
          "name": "stderr"
        }
      ]
    },
    {
      "metadata": {
        "id": "xUPctWe5G4FS",
        "colab_type": "code",
        "colab": {
          "base_uri": "https://localhost:8080/",
          "height": 76
        },
        "outputId": "a7f69207-0b15-4f45-8bb8-67ecd3ddea50"
      },
      "cell_type": "code",
      "source": [
        "transform_test = transforms.Compose([\n",
        "    transforms.ToTensor(),\n",
        "    transforms.Normalize(means, stds),\n",
        "])\n",
        "\n",
        "batch_size = 100\n",
        "test_dataset = torchvision.datasets.ImageFolder('tiny-imagenet-200/val', transform=transform_test)\n",
        "test_batch_gen = torch.utils.data.DataLoader(test_dataset, \n",
        "                                              batch_size=batch_size,\n",
        "                                              shuffle=True,\n",
        "                                              num_workers=1)\n",
        "\n",
        "model.train(False) # disable dropout / use averages for batch_norm\n",
        "test_batch_acc = []\n",
        "for X_batch, y_batch in test_batch_gen:\n",
        "    logits = model(Variable(torch.FloatTensor(X_batch)).cuda())\n",
        "    y_pred = logits.max(1)[1].data\n",
        "    test_batch_acc.append(np.mean( (y_batch.cpu().data == y_pred.cpu().data).numpy() ))\n",
        "\n",
        "\n",
        "print('test_accuracy = {}'.format(np.mean(test_batch_acc)))"
      ],
      "execution_count": 46,
      "outputs": [
        {
          "output_type": "stream",
          "text": [
            "test_accuracy = 0.41600000000000004\n"
          ],
          "name": "stdout"
        }
      ]
    },
    {
      "metadata": {
        "id": "_bAcP2hNP030",
        "colab_type": "code",
        "colab": {}
      },
      "cell_type": "code",
      "source": [
        "val_acc_epochs = []\n",
        "step = len(val_accuracy) // 20\n",
        "for i in range(0, len(val_accuracy), step):\n",
        "  val_acc_epochs.append(np.mean(val_accuracy[i : i + step]))"
      ],
      "execution_count": 0,
      "outputs": []
    },
    {
      "metadata": {
        "id": "502ToH_sP4xI",
        "colab_type": "code",
        "colab": {
          "base_uri": "https://localhost:8080/",
          "height": 544
        },
        "outputId": "16c297f0-15e3-49b4-8369-af77e50bd24c"
      },
      "cell_type": "code",
      "source": [
        "plt.plot(range(len(val_acc_epochs)), val_acc_epochs)\n",
        "plt.xlabel('Batches', fontsize = 20)\n",
        "plt.ylabel('Val Accuracy', fontsize = 20)\n",
        "plt.title('Accuracy on val', fontsize = 20)"
      ],
      "execution_count": 48,
      "outputs": [
        {
          "output_type": "execute_result",
          "data": {
            "text/plain": [
              "Text(0.5, 1.0, 'Accuracy on val')"
            ]
          },
          "metadata": {
            "tags": []
          },
          "execution_count": 48
        },
        {
          "output_type": "display_data",
          "data": {
            "image/png": "[encoded data removed]",
            "text/plain": [
              "<Figure size 720x576 with 1 Axes>"
            ]
          },
          "metadata": {
            "tags": []
          }
        }
      ]
    },
    {
      "metadata": {
        "id": "xwbAd77pP8yl",
        "colab_type": "text"
      },
      "cell_type": "markdown",
      "source": [
        "Кажется на этом можно закончить. Видимо 42 это максимум для моей архитектуры и оптимизатора, который я использовал."
      ]
    },
    {
      "metadata": {
        "id": "3fzoBDcRVxw4",
        "colab_type": "text"
      },
      "cell_type": "markdown",
      "source": [
        "```\n",
        "\n",
        "```\n",
        "\n",
        "```\n",
        "\n",
        "```\n",
        "\n",
        "```\n",
        "\n",
        "```\n",
        "\n",
        "\n",
        "# Report\n",
        "\n",
        "All creative approaches are highly welcome, but at the very least it would be great to mention\n",
        "* the idea;\n",
        "* brief history of tweaks and improvements;\n",
        "* what is the final architecture and why?\n",
        "* what is the training method and, again, why?\n",
        "* Any regularizations and other techniques applied and their effects;\n",
        "\n",
        "\n",
        "There is no need to write strict mathematical proofs (unless you want to).\n",
        " * \"I tried this, this and this, and the second one turned out to be better. And i just didn't like the name of that one\" - OK, but can be better\n",
        " * \"I have analized these and these articles|sources|blog posts, tried that and that to adapt them to my problem and the conclusions are such and such\" - the ideal one\n",
        " * \"I took that code that demo without understanding it, but i'll never confess that and instead i'll make up some pseudoscientific explaination\" - __not_ok__"
      ]
    },
    {
      "metadata": {
        "id": "uWa1hTcdVxw5",
        "colab_type": "text"
      },
      "cell_type": "markdown",
      "source": [
        "### Hi, my name is Britkov Radomir, and here's my story\n",
        "\n",
        "На самом деле история довольно прозаичная. Ничего особо интеллектуального я не делал. Брал советы из семинара : batchnorm после conv и dense, аугментация. С помощью них мне удалось добиться 30-33%. У меня было три свертки и два полносвязных слоя,  Потом я не знал что делать, в какой-то момент я заметил что у сверток у меня был такой порядок out_channels 128 у первой, 64 у второй, 32 у третей. После этого я (забинтовал простреленную ногу) поменял порядок сверток. Стало лучше, в зависимости от вероятности в dropout получалось от 34% до 36%. Была очень странная особенность, что сеть все равно переобучалась, то есть график val acc. был параболой - в какой-то момент становился убывающим. Я решил, что постараюсь добиться 40% на каком-то количестве эпох и остановлю сеть, чтобы она не переучилась. Дальше я перебирал разные параметры (dropout, функции активации, количество каналов, оптимизаторы), но ничего не помогало. Под конец я решил поступить просто: добавить еще одну свертку, причем я решил объединить две свертки вместе без мах-пулинга. И это дало нужный скор - 40% точности на 15 эпохах. Как видно из графиков потом я решил попробовал увеличить количество эпох и посмотреть будет ли такое-же поведение как раньше (падение val acc) или нет. Оказалось, что после 11-12 эпохи loss на train все также продолжает падать, но при этом val acc почти не меняется и остается на уровне 41-42 процентов (на тесте такая же точность) . Этот факт меня очень порадовал и я решил на этом остановить процесс обучения. Также отмечу, что возможно я не совсем правильно работал с аугментацией. Я трансформировал весь датасет, затем поделил его на train и val, мне кажется правильнее бы было, валидироваться на обычном вале, а не на аугментированным, но к сожалению я не разобрался как красиво это сделать в pytoch, если это возможно я бы хотел узнать у вас как это делается. В заключении я опишу финальную архитектуру сети\n",
        "\n",
        "\n",
        "\n",
        "##### I gonna build a neural network, that\n",
        "* brief text on what was\n",
        "* the original idea\n",
        "* and why it was so\n",
        "\n",
        "How could i be so naive?!\n",
        "\n",
        "##### One day, with no signs of warning,\n",
        "This thing has finally converged and\n",
        "* Some explaination about what were the results,\n",
        "* what worked and what didn't\n",
        "* most importantly - what next steps were taken, if any\n",
        "* and what were their respective outcomes\n",
        "\n",
        "##### Finally, after __  iterations, __ mugs of [tea/coffee]\n",
        "* what was the final architecture\n",
        "* as well as training method and tricks\n",
        "\n",
        "That, having wasted ____ [minutes, hours or days] of my life training, got\n",
        "\n",
        "* accuracy on training: __\n",
        "* accuracy on validation: __\n",
        "* accuracy on test: __\n",
        "\n",
        "\n",
        "[an optional afterword and mortal curses on assignment authors]"
      ]
    },
    {
      "metadata": {
        "id": "EbsPbx89Qyer",
        "colab_type": "code",
        "colab": {}
      },
      "cell_type": "code",
      "source": [
        ""
      ],
      "execution_count": 0,
      "outputs": []
    }
  ]
}