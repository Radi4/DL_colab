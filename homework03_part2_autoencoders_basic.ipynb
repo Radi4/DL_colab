{
  "nbformat": 4,
  "nbformat_minor": 0,
  "metadata": {
    "colab": {
      "name": "homework03_part2_autoencoders_basic.ipynb",
      "version": "0.3.2",
      "provenance": [],
      "collapsed_sections": [],
      "include_colab_link": true
    },
    "kernelspec": {
      "name": "python3",
      "display_name": "Python 3"
    },
    "accelerator": "GPU"
  },
  "cells": [
    {
      "cell_type": "markdown",
      "metadata": {
        "id": "view-in-github",
        "colab_type": "text"
      },
      "source": [
        "<a href=\"https://colab.research.google.com/github/Radi4/DL_colab/blob/master/homework03_part2_autoencoders_basic.ipynb\" target=\"_parent\"><img src=\"https://colab.research.google.com/assets/colab-badge.svg\" alt=\"Open In Colab\"/></a>"
      ]
    },
    {
      "metadata": {
        "colab_type": "text",
        "id": "VBNHzOrf_eWj"
      },
      "cell_type": "markdown",
      "source": [
        "### Denoising Autoencoders And Where To Find Them\n",
        "\n",
        "Today we're going to train deep autoencoders and deploy them to faces and search for similar images.\n",
        "\n",
        "Our new test subjects are human faces from the [lfw dataset](http://vis-www.cs.umass.edu/lfw/)."
      ]
    },
    {
      "metadata": {
        "colab_type": "text",
        "id": "H4hWkdhe_eWl"
      },
      "cell_type": "markdown",
      "source": [
        "**Collab setting**"
      ]
    },
    {
      "metadata": {
        "colab_type": "code",
        "id": "C9GUvLcu_eWm",
        "outputId": "d17cd244-d34c-43f4-f708-56a62fcffab5",
        "colab": {
          "base_uri": "https://localhost:8080/",
          "height": 336
        }
      },
      "cell_type": "code",
      "source": [
        "# if you're running in colab,\n",
        "# 1. go to Runtime -> Change Runtimy Type -> GPU\n",
        "# 2. uncomment this:\n",
        "!wget https://raw.githubusercontent.com/yandexdataschool/Practical_DL/hw3_19/homework03/lfw_dataset.py -O lfw_dataset.py"
      ],
      "execution_count": 0,
      "outputs": [
        {
          "output_type": "stream",
          "text": [
            "--2019-04-08 08:40:58--  https://raw.githubusercontent.com/yandexdataschool/Practical_DL/hw3_19/homework03/lfw_dataset.py\n",
            "Resolving raw.githubusercontent.com (raw.githubusercontent.com)... 151.101.0.133, 151.101.64.133, 151.101.128.133, ...\n",
            "Connecting to raw.githubusercontent.com (raw.githubusercontent.com)|151.101.0.133|:443... connected.\n",
            "HTTP request sent, awaiting response... 200 OK\n",
            "Length: 2734 (2.7K) [text/plain]\n",
            "Saving to: ‘lfw_dataset.py’\n",
            "\n",
            "\rlfw_dataset.py        0%[                    ]       0  --.-KB/s               \rlfw_dataset.py      100%[===================>]   2.67K  --.-KB/s    in 0s      \n",
            "\n",
            "2019-04-08 08:40:58 (38.2 MB/s) - ‘lfw_dataset.py’ saved [2734/2734]\n",
            "\n"
          ],
          "name": "stdout"
        }
      ]
    },
    {
      "metadata": {
        "colab_type": "code",
        "id": "o7jFIMZd_eWp",
        "colab": {}
      },
      "cell_type": "code",
      "source": [
        "import torch\n",
        "import numpy as np\n",
        "\n",
        "from torch.utils.data import Dataset, DataLoader\n",
        "import torch.nn as nn\n",
        "import torch.nn.functional as F\n",
        "import torch.optim as optim\n",
        "\n",
        "\n",
        "EPOCHS = 100\n",
        "BATCH_SIZE = 32\n",
        "LEARNING_RATE = 1e-3\n",
        "\n",
        "LATENT_DIMENSION = 4\n",
        "BATCH_SIZE = 32\n",
        "\n",
        "device = torch.device(\"cuda\")"
      ],
      "execution_count": 0,
      "outputs": []
    },
    {
      "metadata": {
        "colab_type": "code",
        "id": "CRWV1ryH_eWv",
        "outputId": "24f87b33-edd2-4c34-b0a2-de0ac1690214",
        "colab": {
          "base_uri": "https://localhost:8080/",
          "height": 165
        }
      },
      "cell_type": "code",
      "source": [
        "import numpy as np\n",
        "from lfw_dataset import fetch_lfw_dataset\n",
        "from sklearn.model_selection import train_test_split\n",
        "X, attr = fetch_lfw_dataset(use_raw=True,dimx=38,dimy=38)\n",
        "X = X.transpose([0,3,1,2]).astype('float32') / 256.0\n",
        "\n",
        "img_shape = X.shape[1:]\n",
        "\n",
        "X_train, X_test = train_test_split(X, test_size=0.1,random_state=42)"
      ],
      "execution_count": 0,
      "outputs": [
        {
          "output_type": "stream",
          "text": [
            "images not found, donwloading...\n",
            "extracting...\n",
            "done\n",
            "attributes not found, downloading...\n",
            "done\n"
          ],
          "name": "stdout"
        }
      ]
    },
    {
      "metadata": {
        "colab_type": "code",
        "id": "3fAdhPn2_eWy",
        "colab": {}
      },
      "cell_type": "code",
      "source": [
        "X_train_tensor = torch.from_numpy(X_train).type(torch.DoubleTensor)\n",
        "X_test_tensor = torch.Tensor(X_test).type(torch.DoubleTensor)"
      ],
      "execution_count": 0,
      "outputs": []
    },
    {
      "metadata": {
        "colab_type": "code",
        "id": "FV1efJSM_eW0",
        "outputId": "9e648ba2-18f4-4230-ae36-ddc984a30a2b",
        "colab": {
          "base_uri": "https://localhost:8080/",
          "height": 96
        }
      },
      "cell_type": "code",
      "source": [
        "img_shape"
      ],
      "execution_count": 0,
      "outputs": [
        {
          "output_type": "execute_result",
          "data": {
            "text/plain": [
              "(3, 38, 38)"
            ]
          },
          "metadata": {
            "tags": []
          },
          "execution_count": 5
        }
      ]
    },
    {
      "metadata": {
        "colab_type": "code",
        "id": "MSVm1sIK_eW4",
        "outputId": "bb04676a-b84a-4f71-afb3-112bed01b7e5",
        "colab": {
          "base_uri": "https://localhost:8080/",
          "height": 344
        }
      },
      "cell_type": "code",
      "source": [
        "%matplotlib inline\n",
        "import matplotlib.pyplot as plt\n",
        "plt.title('sample image')\n",
        "for i in range(6):\n",
        "    plt.subplot(2,3,i+1)\n",
        "    plt.imshow(X[i].transpose([1,2,0]))\n",
        "\n",
        "print(\"X shape:\",X.shape)\n",
        "print(\"attr shape:\",attr.shape)"
      ],
      "execution_count": 0,
      "outputs": [
        {
          "output_type": "stream",
          "text": [
            "X shape: (13143, 3, 38, 38)\n",
            "attr shape: (13143, 73)\n"
          ],
          "name": "stdout"
        },
        {
          "output_type": "display_data",
          "data": {
            "image/png": "[encoded data removed]",
            "text/plain": [
              "<Figure size 432x288 with 6 Axes>"
            ]
          },
          "metadata": {
            "tags": []
          }
        }
      ]
    },
    {
      "metadata": {
        "colab_type": "text",
        "id": "csBv6bf1_eW7"
      },
      "cell_type": "markdown",
      "source": [
        "### Autoencoder architecture\n",
        "\n",
        "Let's design autoencoder as a single lasagne network, going from input image through bottleneck into the reconstructed image.\n",
        "\n",
        "<img src=\"http://nghiaho.com/wp-content/uploads/2012/12/autoencoder_network1.png\" width=640px>\n",
        "\n"
      ]
    },
    {
      "metadata": {
        "colab_type": "text",
        "id": "O6fFezL-_eW8"
      },
      "cell_type": "markdown",
      "source": [
        "## First step: PCA\n",
        "\n",
        "Principial Component Analysis is a popular dimensionality reduction method. \n",
        "\n",
        "Under the hood, PCA attempts to decompose object-feature matrix $X$ into two smaller matrices: $W$ and $\\hat W$ minimizing _mean squared error_:\n",
        "\n",
        "$$\\|(X W) \\hat{W} - X\\|^2_2 \\to_{W, \\hat{W}} \\min$$\n",
        "- $X \\in \\mathbb{R}^{n \\times m}$ - object matrix (**centered**);\n",
        "- $W \\in \\mathbb{R}^{m \\times d}$ - matrix of direct transformation;\n",
        "- $\\hat{W} \\in \\mathbb{R}^{d \\times m}$ - matrix of reverse transformation;\n",
        "- $n$ samples, $m$ original dimensions and $d$ target dimensions;\n",
        "\n",
        "In geometric terms, we want to find d axes along which most of variance occurs. The \"natural\" axes, if you wish.\n",
        "\n",
        "![](https://upload.wikimedia.org/wikipedia/commons/thumb/9/90/PCA_fish.png/256px-PCA_fish.png)\n",
        "\n",
        "\n",
        "PCA can also be seen as a special case of an autoencoder.\n",
        "\n",
        "* __Encoder__: X -> Dense(d units) -> code\n",
        "* __Decoder__: code -> Dense(m units) -> X\n",
        "\n",
        "Where Dense is a fully-connected layer with linear activaton:   $f(X) = W \\cdot X + \\vec b $\n",
        "\n",
        "\n",
        "Note: the bias term in those layers is responsible for \"centering\" the matrix i.e. substracting mean."
      ]
    },
    {
      "metadata": {
        "colab_type": "code",
        "id": "2JTeWcCc_eW9",
        "colab": {}
      },
      "cell_type": "code",
      "source": [
        "# this class corresponds to view-function and may be used as a reshape layer \n",
        "\n",
        "class View(nn.Module):\n",
        "    def __init__(self, *shape):\n",
        "        super(View, self).__init__()\n",
        "        self.shape = shape\n",
        "    def forward(self, input):\n",
        "        return input.view(input.size(0), *self.shape)\n",
        "\n",
        "class Flatten(nn.Module):\n",
        "    def forward(self, input):\n",
        "        return input.view(input.size(0), -1)"
      ],
      "execution_count": 0,
      "outputs": []
    },
    {
      "metadata": {
        "colab_type": "code",
        "id": "gB5hwVLe_eW_",
        "colab": {}
      },
      "cell_type": "code",
      "source": [
        "class pca_autoencoder(nn.Module):\n",
        "    \"\"\"\n",
        "    Here we define a simple linear autoencoder as described above.\n",
        "    We also flatten and un-flatten data to be compatible with image shapes\n",
        "    \"\"\"\n",
        "    \n",
        "    def __init__(self, x, y, code_size=32):\n",
        "        super(pca_autoencoder, self).__init__()\n",
        "        self.enc = nn.Sequential()\n",
        "        self.enc.add_module('flat', Flatten())\n",
        "        self.enc.add_module('encoder', nn.Linear(x * y * 3, code_size, bias=True))\n",
        "\n",
        "        self.dec = nn.Sequential()\n",
        "        self.dec.add_module('decoder', nn.Linear(code_size, x * y * 3, bias=True))\n",
        "        self.dec.add_module('reshape', View(3, x, y))\n",
        "    \n",
        "    def batch_loss(self, batch):\n",
        "        reconstruction = self.dec(self.enc(batch))\n",
        "        return torch.mean((batch - reconstruction)**2)\n",
        "    "
      ],
      "execution_count": 0,
      "outputs": []
    },
    {
      "metadata": {
        "colab_type": "text",
        "id": "69_Da_I7_eXB"
      },
      "cell_type": "markdown",
      "source": [
        "### Train the model\n",
        "\n",
        "As usual, iterate minibatches of data and call train_step, then evaluate loss on validation data.\n",
        "\n",
        "__Note to py2 users:__ you can safely drop `flush=True` from any code below."
      ]
    },
    {
      "metadata": {
        "colab_type": "code",
        "id": "7sbvg3Z__eXD",
        "colab": {}
      },
      "cell_type": "code",
      "source": [
        "def train(model, dataset, num_epoch=32):\n",
        "    model.double()\n",
        "    model.to(device)\n",
        "    gd = optim.Adamax(model.parameters(), lr=0.002)\n",
        "    dataloader = DataLoader(dataset, batch_size=BATCH_SIZE, shuffle=True)\n",
        "    losses = []\n",
        "    for epoch in range(num_epoch):\n",
        "        for i, (batch) in enumerate(dataloader):\n",
        "            gd.zero_grad()\n",
        "            loss = model.batch_loss(batch.cuda())\n",
        "            (loss).backward()\n",
        "            losses.append(loss.detach().cpu().numpy())\n",
        "            gd.step()\n",
        "            gd.zero_grad()\n",
        "        print(\"#%i, Train loss: %.7f\"%(epoch+1,np.mean(losses)),flush=True)"
      ],
      "execution_count": 0,
      "outputs": []
    },
    {
      "metadata": {
        "colab_type": "code",
        "id": "wj7YPamq_eXF",
        "colab": {}
      },
      "cell_type": "code",
      "source": [
        "def visualize(img, model):\n",
        "    \"\"\"Draws original, encoded and decoded images\"\"\"\n",
        "    code = model.enc(img[None].cuda())\n",
        "    reco = model.dec(code)\n",
        "\n",
        "    plt.subplot(1,3,1)\n",
        "    plt.title(\"Original\")\n",
        "    plt.imshow(img.cpu().numpy().transpose([1, 2, 0]).clip(0, 1))\n",
        "\n",
        "    plt.subplot(1,3,2)\n",
        "    plt.title(\"Code\")\n",
        "    plt.imshow(code.cpu().detach().numpy().reshape([code.shape[-1] // 2, -1]))\n",
        "\n",
        "    plt.subplot(1,3,3)\n",
        "    plt.title(\"Reconstructed\")\n",
        "    plt.imshow(reco[0].cpu().detach().numpy().transpose([1, 2, 0]).clip(0, 1))\n",
        "    plt.show()\n"
      ],
      "execution_count": 0,
      "outputs": []
    },
    {
      "metadata": {
        "colab_type": "code",
        "id": "4jkVqhLd_eXI",
        "outputId": "f2d4fe87-75e7-4779-994d-9cc726ea47f9",
        "colab": {
          "base_uri": "https://localhost:8080/",
          "height": 836
        }
      },
      "cell_type": "code",
      "source": [
        "aenc = pca_autoencoder(X_train_tensor.shape[2], X_train_tensor.shape[3])\n",
        "train(aenc, X_train_tensor, 40)"
      ],
      "execution_count": 0,
      "outputs": [
        {
          "output_type": "stream",
          "text": [
            "#1, Train loss: 0.1513042\n",
            "#2, Train loss: 0.0880171\n",
            "#3, Train loss: 0.0658050\n",
            "#4, Train loss: 0.0546233\n",
            "#5, Train loss: 0.0478759\n",
            "#6, Train loss: 0.0433402\n",
            "#7, Train loss: 0.0400494\n",
            "#8, Train loss: 0.0374916\n",
            "#9, Train loss: 0.0353695\n",
            "#10, Train loss: 0.0335400\n",
            "#11, Train loss: 0.0318871\n",
            "#12, Train loss: 0.0303849\n",
            "#13, Train loss: 0.0290254\n",
            "#14, Train loss: 0.0277872\n",
            "#15, Train loss: 0.0266591\n",
            "#16, Train loss: 0.0256295\n",
            "#17, Train loss: 0.0246819\n",
            "#18, Train loss: 0.0238183\n",
            "#19, Train loss: 0.0230205\n",
            "#20, Train loss: 0.0222857\n",
            "#21, Train loss: 0.0216076\n",
            "#22, Train loss: 0.0209817\n",
            "#23, Train loss: 0.0203974\n",
            "#24, Train loss: 0.0198530\n",
            "#25, Train loss: 0.0193459\n",
            "#26, Train loss: 0.0188719\n",
            "#27, Train loss: 0.0184264\n",
            "#28, Train loss: 0.0180096\n",
            "#29, Train loss: 0.0176153\n",
            "#30, Train loss: 0.0172430\n",
            "#31, Train loss: 0.0168933\n",
            "#32, Train loss: 0.0165639\n",
            "#33, Train loss: 0.0162507\n",
            "#34, Train loss: 0.0159526\n",
            "#35, Train loss: 0.0156711\n",
            "#36, Train loss: 0.0154030\n",
            "#37, Train loss: 0.0151480\n",
            "#38, Train loss: 0.0149061\n",
            "#39, Train loss: 0.0146749\n",
            "#40, Train loss: 0.0144550\n"
          ],
          "name": "stdout"
        }
      ]
    },
    {
      "metadata": {
        "colab_type": "code",
        "id": "RqTUvLp8_eXM",
        "outputId": "2f7f8f88-4d70-4175-d3f2-1a8e2510bfbe",
        "colab": {
          "base_uri": "https://localhost:8080/",
          "height": 96
        }
      },
      "cell_type": "code",
      "source": [
        "dataloader_test = DataLoader(X_test_tensor, batch_size=BATCH_SIZE, shuffle=True)\n",
        "scores = []\n",
        "for i, (batch) in enumerate(dataloader_test):\n",
        "    scores.append(aenc.batch_loss(batch.cuda()).data.cpu().numpy())\n",
        "print (np.mean(scores))"
      ],
      "execution_count": 0,
      "outputs": [
        {
          "output_type": "stream",
          "text": [
            "0.00585659127852789\n"
          ],
          "name": "stdout"
        }
      ]
    },
    {
      "metadata": {
        "colab_type": "code",
        "id": "cvljk13x_eXP",
        "outputId": "4a019810-25a2-4617-dac8-7e16ba42400a",
        "colab": {
          "base_uri": "https://localhost:8080/",
          "height": 1329
        }
      },
      "cell_type": "code",
      "source": [
        "for i in range(5):\n",
        "    img = X_test_tensor[i]\n",
        "    visualize(img,aenc)"
      ],
      "execution_count": 0,
      "outputs": [
        {
          "output_type": "display_data",
          "data": {
            "image/png": "[encoded data removed]",
            "text/plain": [
              "<Figure size 432x288 with 3 Axes>"
            ]
          },
          "metadata": {
            "tags": []
          }
        },
        {
          "output_type": "display_data",
          "data": {
            "image/png": "[encoded data removed]",
            "text/plain": [
              "<Figure size 432x288 with 3 Axes>"
            ]
          },
          "metadata": {
            "tags": []
          }
        },
        {
          "output_type": "display_data",
          "data": {
            "image/png": "[encoded data removed]",
            "text/plain": [
              "<Figure size 432x288 with 3 Axes>"
            ]
          },
          "metadata": {
            "tags": []
          }
        },
        {
          "output_type": "display_data",
          "data": {
            "image/png": "[encoded data removed]",
            "text/plain": [
              "<Figure size 432x288 with 3 Axes>"
            ]
          },
          "metadata": {
            "tags": []
          }
        },
        {
          "output_type": "display_data",
          "data": {
            "image/png": "[encoded data removed]",
            "text/plain": [
              "<Figure size 432x288 with 3 Axes>"
            ]
          },
          "metadata": {
            "tags": []
          }
        }
      ]
    },
    {
      "metadata": {
        "colab_type": "text",
        "id": "NIurZSFN_eXV"
      },
      "cell_type": "markdown",
      "source": [
        "### Going deeper\n",
        "\n",
        "PCA is neat but surely we can do better. This time we want you to build a deep autoencoder by... stacking more layers.\n",
        "\n",
        "In particular, your encoder and decoder should be at least 3 layers deep each. You can use any nonlinearity you want and any number of hidden units in non-bottleneck layers provided you can actually afford training it.\n",
        "\n",
        "![layers](https://pbs.twimg.com/media/CYggEo-VAAACg_n.png:small)\n",
        "\n",
        "A few sanity checks:\n",
        "* There shouldn't be any hidden layer smaller than bottleneck (encoder output).\n",
        "* Don't forget to insert nonlinearities between intermediate dense layers.\n",
        "* Convolutional layers are good idea. To undo convolution use L.Deconv2D, pooling - L.UpSampling2D.\n",
        "* Adding activation after bottleneck is allowed, but not strictly necessary."
      ]
    },
    {
      "metadata": {
        "colab_type": "code",
        "id": "IGP0HAr3_eXW",
        "colab": {}
      },
      "cell_type": "code",
      "source": [
        "class pca_autoencoder_deep(nn.Module):\n",
        "    def __init__(self, x, y, code_size=32):\n",
        "        super(pca_autoencoder_deep, self).__init__()\n",
        "\n",
        "        out_channels = 256\n",
        "        self.enc = nn.Sequential()\n",
        "        self.enc.add_module('conv1', nn.Conv2d(in_channels=3, out_channels=out_channels, kernel_size=3, padding = 1, bias = False))\n",
        "        self.enc.add_module('relu', nn.ReLU())\n",
        "        self.enc.add_module('pool1', nn.MaxPool2d(2))\n",
        "        self.enc.add_module('flat', Flatten())\n",
        "        self.enc.add_module('dense-1', nn.Linear(256 * x * y // 4, code_size * 8))\n",
        "        #self.enc.add_module('relu-1', nn.ReLU())\n",
        "        #self.enc.add_module('dense-2', nn.Linear(code_size * 8, code_size * 4))\n",
        "        #self.enc.add_module('relu-2', nn.ReLU())\n",
        "        #self.enc.add_module('encocder', nn.Linear(code_size * 4, code_size, bias = True))\n",
        "        \n",
        "        self.dec = nn.Sequential()\n",
        "        self.dec.add_module('decocder', nn.Linear(code_size, code_size * 4, bias = True))\n",
        "        self.dec.add_module('relu-1', nn.ReLU())\n",
        "        self.dec.add_module('dense-1', nn.Linear(code_size * 4, code_size * 8, bias = True))\n",
        "        self.dec.add_module('relu-2', nn.ReLU())\n",
        "        self.enc.add_module('dense-2', nn.Linear(code_size * 8, out_channels * x * y // 4))\n",
        "        self.dec.add_module('reshape', View(out_channels, x // 2, y // 2))\n",
        "        self.dec.add_module('pool', nn.UpsamplingBilinear2d(x))\n",
        "        self.dec.add_module('sigmoid', nn.Sigmoid())\n",
        "        self.dec.add_module('conv', nn.ConvTranspose2d(in_channels=out_channels, out_channels=3, kernel_size=3, padding = 1, bias = False))\n",
        "        \n",
        "\n",
        "    def batch_loss(self, batch):\n",
        "        reconstruction = self.enc(batch)\n",
        "        return torch.mean((batch - reconstruction)**2)"
      ],
      "execution_count": 0,
      "outputs": []
    },
    {
      "metadata": {
        "id": "lCzIXJaskusT",
        "colab_type": "code",
        "colab": {}
      },
      "cell_type": "code",
      "source": [
        "def my_train(model, train_dataset, test_dataset, num_epoch=32):\n",
        "    model.double()\n",
        "    model.to(device)\n",
        "    gd = optim.Adamax(model.parameters(), lr=0.002)\n",
        "    dataloader = DataLoader(train_dataset, batch_size=BATCH_SIZE, shuffle=True)\n",
        "    losses = []\n",
        "    for epoch in range(num_epoch):\n",
        "        for i, (batch) in enumerate(dataloader):\n",
        "            gd.zero_grad()\n",
        "            loss = model.batch_loss(batch.cuda())\n",
        "            (loss).backward()\n",
        "            losses.append(loss.detach().cpu().numpy())\n",
        "            gd.step()\n",
        "            gd.zero_grad()\n",
        "        print(\"#%i, Train loss: %.7f\"%(epoch+1,np.mean(losses)),flush=True)\n",
        "        \n",
        "        if (epoch + 1) % 10 == 0:\n",
        "          dataloader_test = DataLoader(test_dataset, batch_size=BATCH_SIZE, shuffle=True)\n",
        "          scores = []\n",
        "          for i, (batch) in enumerate(dataloader_test):\n",
        "            scores.append(aenc_deep.batch_loss(batch.cuda(device = device)).data.cpu().numpy())\n",
        "            encoder_out = aenc_deep.enc(batch.cuda(device = device))\n",
        "          reconstruction_mse  = np.mean(scores)\n",
        "          print(\"Test MSE: {} on epoch {}\".format(reconstruction_mse, epoch + 1))"
      ],
      "execution_count": 0,
      "outputs": []
    },
    {
      "metadata": {
        "colab_type": "code",
        "id": "vtSWYDsB_eXc",
        "outputId": "5868358f-40c2-460f-e5d0-69a685a37dbf",
        "colab": {
          "base_uri": "https://localhost:8080/",
          "height": 1030
        }
      },
      "cell_type": "code",
      "source": [
        "aenc_deep = pca_autoencoder_deep(X_train_tensor.shape[2], X_train_tensor.shape[3])\n",
        "my_train(aenc_deep, X_train_tensor, X_test_tensor, 50)"
      ],
      "execution_count": 144,
      "outputs": [
        {
          "output_type": "error",
          "ename": "RuntimeError",
          "evalue": "ignored",
          "traceback": [
            "\u001b[0;31m---------------------------------------------------------------------------\u001b[0m",
            "\u001b[0;31mRuntimeError\u001b[0m                              Traceback (most recent call last)",
            "\u001b[0;32m<ipython-input-144-aa86d4008777>\u001b[0m in \u001b[0;36m<module>\u001b[0;34m()\u001b[0m\n\u001b[1;32m      1\u001b[0m \u001b[0maenc_deep\u001b[0m \u001b[0;34m=\u001b[0m \u001b[0mpca_autoencoder_deep\u001b[0m\u001b[0;34m(\u001b[0m\u001b[0mX_train_tensor\u001b[0m\u001b[0;34m.\u001b[0m\u001b[0mshape\u001b[0m\u001b[0;34m[\u001b[0m\u001b[0;36m2\u001b[0m\u001b[0;34m]\u001b[0m\u001b[0;34m,\u001b[0m \u001b[0mX_train_tensor\u001b[0m\u001b[0;34m.\u001b[0m\u001b[0mshape\u001b[0m\u001b[0;34m[\u001b[0m\u001b[0;36m3\u001b[0m\u001b[0;34m]\u001b[0m\u001b[0;34m)\u001b[0m\u001b[0;34m\u001b[0m\u001b[0;34m\u001b[0m\u001b[0m\n\u001b[0;32m----> 2\u001b[0;31m \u001b[0mmy_train\u001b[0m\u001b[0;34m(\u001b[0m\u001b[0maenc_deep\u001b[0m\u001b[0;34m,\u001b[0m \u001b[0mX_train_tensor\u001b[0m\u001b[0;34m,\u001b[0m \u001b[0mX_test_tensor\u001b[0m\u001b[0;34m,\u001b[0m \u001b[0;36m50\u001b[0m\u001b[0;34m)\u001b[0m\u001b[0;34m\u001b[0m\u001b[0;34m\u001b[0m\u001b[0m\n\u001b[0m",
            "\u001b[0;32m<ipython-input-143-0fe2c5a08241>\u001b[0m in \u001b[0;36mmy_train\u001b[0;34m(model, train_dataset, test_dataset, num_epoch)\u001b[0m\n\u001b[1;32m      8\u001b[0m         \u001b[0;32mfor\u001b[0m \u001b[0mi\u001b[0m\u001b[0;34m,\u001b[0m \u001b[0;34m(\u001b[0m\u001b[0mbatch\u001b[0m\u001b[0;34m)\u001b[0m \u001b[0;32min\u001b[0m \u001b[0menumerate\u001b[0m\u001b[0;34m(\u001b[0m\u001b[0mdataloader\u001b[0m\u001b[0;34m)\u001b[0m\u001b[0;34m:\u001b[0m\u001b[0;34m\u001b[0m\u001b[0;34m\u001b[0m\u001b[0m\n\u001b[1;32m      9\u001b[0m             \u001b[0mgd\u001b[0m\u001b[0;34m.\u001b[0m\u001b[0mzero_grad\u001b[0m\u001b[0;34m(\u001b[0m\u001b[0;34m)\u001b[0m\u001b[0;34m\u001b[0m\u001b[0;34m\u001b[0m\u001b[0m\n\u001b[0;32m---> 10\u001b[0;31m             \u001b[0mloss\u001b[0m \u001b[0;34m=\u001b[0m \u001b[0mmodel\u001b[0m\u001b[0;34m.\u001b[0m\u001b[0mbatch_loss\u001b[0m\u001b[0;34m(\u001b[0m\u001b[0mbatch\u001b[0m\u001b[0;34m.\u001b[0m\u001b[0mcuda\u001b[0m\u001b[0;34m(\u001b[0m\u001b[0;34m)\u001b[0m\u001b[0;34m)\u001b[0m\u001b[0;34m\u001b[0m\u001b[0;34m\u001b[0m\u001b[0m\n\u001b[0m\u001b[1;32m     11\u001b[0m             \u001b[0;34m(\u001b[0m\u001b[0mloss\u001b[0m\u001b[0;34m)\u001b[0m\u001b[0;34m.\u001b[0m\u001b[0mbackward\u001b[0m\u001b[0;34m(\u001b[0m\u001b[0;34m)\u001b[0m\u001b[0;34m\u001b[0m\u001b[0;34m\u001b[0m\u001b[0m\n\u001b[1;32m     12\u001b[0m             \u001b[0mlosses\u001b[0m\u001b[0;34m.\u001b[0m\u001b[0mappend\u001b[0m\u001b[0;34m(\u001b[0m\u001b[0mloss\u001b[0m\u001b[0;34m.\u001b[0m\u001b[0mdetach\u001b[0m\u001b[0;34m(\u001b[0m\u001b[0;34m)\u001b[0m\u001b[0;34m.\u001b[0m\u001b[0mcpu\u001b[0m\u001b[0;34m(\u001b[0m\u001b[0;34m)\u001b[0m\u001b[0;34m.\u001b[0m\u001b[0mnumpy\u001b[0m\u001b[0;34m(\u001b[0m\u001b[0;34m)\u001b[0m\u001b[0;34m)\u001b[0m\u001b[0;34m\u001b[0m\u001b[0;34m\u001b[0m\u001b[0m\n",
            "\u001b[0;32m<ipython-input-142-d7b49e721aa4>\u001b[0m in \u001b[0;36mbatch_loss\u001b[0;34m(self, batch)\u001b[0m\n\u001b[1;32m     28\u001b[0m \u001b[0;34m\u001b[0m\u001b[0m\n\u001b[1;32m     29\u001b[0m     \u001b[0;32mdef\u001b[0m \u001b[0mbatch_loss\u001b[0m\u001b[0;34m(\u001b[0m\u001b[0mself\u001b[0m\u001b[0;34m,\u001b[0m \u001b[0mbatch\u001b[0m\u001b[0;34m)\u001b[0m\u001b[0;34m:\u001b[0m\u001b[0;34m\u001b[0m\u001b[0;34m\u001b[0m\u001b[0m\n\u001b[0;32m---> 30\u001b[0;31m         \u001b[0mreconstruction\u001b[0m \u001b[0;34m=\u001b[0m \u001b[0mself\u001b[0m\u001b[0;34m.\u001b[0m\u001b[0menc\u001b[0m\u001b[0;34m(\u001b[0m\u001b[0mbatch\u001b[0m\u001b[0;34m)\u001b[0m\u001b[0;34m\u001b[0m\u001b[0;34m\u001b[0m\u001b[0m\n\u001b[0m\u001b[1;32m     31\u001b[0m         \u001b[0;32mreturn\u001b[0m \u001b[0mtorch\u001b[0m\u001b[0;34m.\u001b[0m\u001b[0mmean\u001b[0m\u001b[0;34m(\u001b[0m\u001b[0;34m(\u001b[0m\u001b[0mbatch\u001b[0m \u001b[0;34m-\u001b[0m \u001b[0mreconstruction\u001b[0m\u001b[0;34m)\u001b[0m\u001b[0;34m**\u001b[0m\u001b[0;36m2\u001b[0m\u001b[0;34m)\u001b[0m\u001b[0;34m\u001b[0m\u001b[0;34m\u001b[0m\u001b[0m\n",
            "\u001b[0;32m/usr/local/lib/python3.6/dist-packages/torch/nn/modules/module.py\u001b[0m in \u001b[0;36m__call__\u001b[0;34m(self, *input, **kwargs)\u001b[0m\n\u001b[1;32m    487\u001b[0m             \u001b[0mresult\u001b[0m \u001b[0;34m=\u001b[0m \u001b[0mself\u001b[0m\u001b[0;34m.\u001b[0m\u001b[0m_slow_forward\u001b[0m\u001b[0;34m(\u001b[0m\u001b[0;34m*\u001b[0m\u001b[0minput\u001b[0m\u001b[0;34m,\u001b[0m \u001b[0;34m**\u001b[0m\u001b[0mkwargs\u001b[0m\u001b[0;34m)\u001b[0m\u001b[0;34m\u001b[0m\u001b[0;34m\u001b[0m\u001b[0m\n\u001b[1;32m    488\u001b[0m         \u001b[0;32melse\u001b[0m\u001b[0;34m:\u001b[0m\u001b[0;34m\u001b[0m\u001b[0;34m\u001b[0m\u001b[0m\n\u001b[0;32m--> 489\u001b[0;31m             \u001b[0mresult\u001b[0m \u001b[0;34m=\u001b[0m \u001b[0mself\u001b[0m\u001b[0;34m.\u001b[0m\u001b[0mforward\u001b[0m\u001b[0;34m(\u001b[0m\u001b[0;34m*\u001b[0m\u001b[0minput\u001b[0m\u001b[0;34m,\u001b[0m \u001b[0;34m**\u001b[0m\u001b[0mkwargs\u001b[0m\u001b[0;34m)\u001b[0m\u001b[0;34m\u001b[0m\u001b[0;34m\u001b[0m\u001b[0m\n\u001b[0m\u001b[1;32m    490\u001b[0m         \u001b[0;32mfor\u001b[0m \u001b[0mhook\u001b[0m \u001b[0;32min\u001b[0m \u001b[0mself\u001b[0m\u001b[0;34m.\u001b[0m\u001b[0m_forward_hooks\u001b[0m\u001b[0;34m.\u001b[0m\u001b[0mvalues\u001b[0m\u001b[0;34m(\u001b[0m\u001b[0;34m)\u001b[0m\u001b[0;34m:\u001b[0m\u001b[0;34m\u001b[0m\u001b[0;34m\u001b[0m\u001b[0m\n\u001b[1;32m    491\u001b[0m             \u001b[0mhook_result\u001b[0m \u001b[0;34m=\u001b[0m \u001b[0mhook\u001b[0m\u001b[0;34m(\u001b[0m\u001b[0mself\u001b[0m\u001b[0;34m,\u001b[0m \u001b[0minput\u001b[0m\u001b[0;34m,\u001b[0m \u001b[0mresult\u001b[0m\u001b[0;34m)\u001b[0m\u001b[0;34m\u001b[0m\u001b[0;34m\u001b[0m\u001b[0m\n",
            "\u001b[0;32m/usr/local/lib/python3.6/dist-packages/torch/nn/modules/container.py\u001b[0m in \u001b[0;36mforward\u001b[0;34m(self, input)\u001b[0m\n\u001b[1;32m     90\u001b[0m     \u001b[0;32mdef\u001b[0m \u001b[0mforward\u001b[0m\u001b[0;34m(\u001b[0m\u001b[0mself\u001b[0m\u001b[0;34m,\u001b[0m \u001b[0minput\u001b[0m\u001b[0;34m)\u001b[0m\u001b[0;34m:\u001b[0m\u001b[0;34m\u001b[0m\u001b[0;34m\u001b[0m\u001b[0m\n\u001b[1;32m     91\u001b[0m         \u001b[0;32mfor\u001b[0m \u001b[0mmodule\u001b[0m \u001b[0;32min\u001b[0m \u001b[0mself\u001b[0m\u001b[0;34m.\u001b[0m\u001b[0m_modules\u001b[0m\u001b[0;34m.\u001b[0m\u001b[0mvalues\u001b[0m\u001b[0;34m(\u001b[0m\u001b[0;34m)\u001b[0m\u001b[0;34m:\u001b[0m\u001b[0;34m\u001b[0m\u001b[0;34m\u001b[0m\u001b[0m\n\u001b[0;32m---> 92\u001b[0;31m             \u001b[0minput\u001b[0m \u001b[0;34m=\u001b[0m \u001b[0mmodule\u001b[0m\u001b[0;34m(\u001b[0m\u001b[0minput\u001b[0m\u001b[0;34m)\u001b[0m\u001b[0;34m\u001b[0m\u001b[0;34m\u001b[0m\u001b[0m\n\u001b[0m\u001b[1;32m     93\u001b[0m         \u001b[0;32mreturn\u001b[0m \u001b[0minput\u001b[0m\u001b[0;34m\u001b[0m\u001b[0;34m\u001b[0m\u001b[0m\n\u001b[1;32m     94\u001b[0m \u001b[0;34m\u001b[0m\u001b[0m\n",
            "\u001b[0;32m/usr/local/lib/python3.6/dist-packages/torch/nn/modules/module.py\u001b[0m in \u001b[0;36m__call__\u001b[0;34m(self, *input, **kwargs)\u001b[0m\n\u001b[1;32m    487\u001b[0m             \u001b[0mresult\u001b[0m \u001b[0;34m=\u001b[0m \u001b[0mself\u001b[0m\u001b[0;34m.\u001b[0m\u001b[0m_slow_forward\u001b[0m\u001b[0;34m(\u001b[0m\u001b[0;34m*\u001b[0m\u001b[0minput\u001b[0m\u001b[0;34m,\u001b[0m \u001b[0;34m**\u001b[0m\u001b[0mkwargs\u001b[0m\u001b[0;34m)\u001b[0m\u001b[0;34m\u001b[0m\u001b[0;34m\u001b[0m\u001b[0m\n\u001b[1;32m    488\u001b[0m         \u001b[0;32melse\u001b[0m\u001b[0;34m:\u001b[0m\u001b[0;34m\u001b[0m\u001b[0;34m\u001b[0m\u001b[0m\n\u001b[0;32m--> 489\u001b[0;31m             \u001b[0mresult\u001b[0m \u001b[0;34m=\u001b[0m \u001b[0mself\u001b[0m\u001b[0;34m.\u001b[0m\u001b[0mforward\u001b[0m\u001b[0;34m(\u001b[0m\u001b[0;34m*\u001b[0m\u001b[0minput\u001b[0m\u001b[0;34m,\u001b[0m \u001b[0;34m**\u001b[0m\u001b[0mkwargs\u001b[0m\u001b[0;34m)\u001b[0m\u001b[0;34m\u001b[0m\u001b[0;34m\u001b[0m\u001b[0m\n\u001b[0m\u001b[1;32m    490\u001b[0m         \u001b[0;32mfor\u001b[0m \u001b[0mhook\u001b[0m \u001b[0;32min\u001b[0m \u001b[0mself\u001b[0m\u001b[0;34m.\u001b[0m\u001b[0m_forward_hooks\u001b[0m\u001b[0;34m.\u001b[0m\u001b[0mvalues\u001b[0m\u001b[0;34m(\u001b[0m\u001b[0;34m)\u001b[0m\u001b[0;34m:\u001b[0m\u001b[0;34m\u001b[0m\u001b[0;34m\u001b[0m\u001b[0m\n\u001b[1;32m    491\u001b[0m             \u001b[0mhook_result\u001b[0m \u001b[0;34m=\u001b[0m \u001b[0mhook\u001b[0m\u001b[0;34m(\u001b[0m\u001b[0mself\u001b[0m\u001b[0;34m,\u001b[0m \u001b[0minput\u001b[0m\u001b[0;34m,\u001b[0m \u001b[0mresult\u001b[0m\u001b[0;34m)\u001b[0m\u001b[0;34m\u001b[0m\u001b[0;34m\u001b[0m\u001b[0m\n",
            "\u001b[0;32m/usr/local/lib/python3.6/dist-packages/torch/nn/modules/linear.py\u001b[0m in \u001b[0;36mforward\u001b[0;34m(self, input)\u001b[0m\n\u001b[1;32m     65\u001b[0m     \u001b[0;34m@\u001b[0m\u001b[0mweak_script_method\u001b[0m\u001b[0;34m\u001b[0m\u001b[0;34m\u001b[0m\u001b[0m\n\u001b[1;32m     66\u001b[0m     \u001b[0;32mdef\u001b[0m \u001b[0mforward\u001b[0m\u001b[0;34m(\u001b[0m\u001b[0mself\u001b[0m\u001b[0;34m,\u001b[0m \u001b[0minput\u001b[0m\u001b[0;34m)\u001b[0m\u001b[0;34m:\u001b[0m\u001b[0;34m\u001b[0m\u001b[0;34m\u001b[0m\u001b[0m\n\u001b[0;32m---> 67\u001b[0;31m         \u001b[0;32mreturn\u001b[0m \u001b[0mF\u001b[0m\u001b[0;34m.\u001b[0m\u001b[0mlinear\u001b[0m\u001b[0;34m(\u001b[0m\u001b[0minput\u001b[0m\u001b[0;34m,\u001b[0m \u001b[0mself\u001b[0m\u001b[0;34m.\u001b[0m\u001b[0mweight\u001b[0m\u001b[0;34m,\u001b[0m \u001b[0mself\u001b[0m\u001b[0;34m.\u001b[0m\u001b[0mbias\u001b[0m\u001b[0;34m)\u001b[0m\u001b[0;34m\u001b[0m\u001b[0;34m\u001b[0m\u001b[0m\n\u001b[0m\u001b[1;32m     68\u001b[0m \u001b[0;34m\u001b[0m\u001b[0m\n\u001b[1;32m     69\u001b[0m     \u001b[0;32mdef\u001b[0m \u001b[0mextra_repr\u001b[0m\u001b[0;34m(\u001b[0m\u001b[0mself\u001b[0m\u001b[0;34m)\u001b[0m\u001b[0;34m:\u001b[0m\u001b[0;34m\u001b[0m\u001b[0;34m\u001b[0m\u001b[0m\n",
            "\u001b[0;32m/usr/local/lib/python3.6/dist-packages/torch/nn/functional.py\u001b[0m in \u001b[0;36mlinear\u001b[0;34m(input, weight, bias)\u001b[0m\n\u001b[1;32m   1352\u001b[0m         \u001b[0mret\u001b[0m \u001b[0;34m=\u001b[0m \u001b[0mtorch\u001b[0m\u001b[0;34m.\u001b[0m\u001b[0maddmm\u001b[0m\u001b[0;34m(\u001b[0m\u001b[0mtorch\u001b[0m\u001b[0;34m.\u001b[0m\u001b[0mjit\u001b[0m\u001b[0;34m.\u001b[0m\u001b[0m_unwrap_optional\u001b[0m\u001b[0;34m(\u001b[0m\u001b[0mbias\u001b[0m\u001b[0;34m)\u001b[0m\u001b[0;34m,\u001b[0m \u001b[0minput\u001b[0m\u001b[0;34m,\u001b[0m \u001b[0mweight\u001b[0m\u001b[0;34m.\u001b[0m\u001b[0mt\u001b[0m\u001b[0;34m(\u001b[0m\u001b[0;34m)\u001b[0m\u001b[0;34m)\u001b[0m\u001b[0;34m\u001b[0m\u001b[0;34m\u001b[0m\u001b[0m\n\u001b[1;32m   1353\u001b[0m     \u001b[0;32melse\u001b[0m\u001b[0;34m:\u001b[0m\u001b[0;34m\u001b[0m\u001b[0;34m\u001b[0m\u001b[0m\n\u001b[0;32m-> 1354\u001b[0;31m         \u001b[0moutput\u001b[0m \u001b[0;34m=\u001b[0m \u001b[0minput\u001b[0m\u001b[0;34m.\u001b[0m\u001b[0mmatmul\u001b[0m\u001b[0;34m(\u001b[0m\u001b[0mweight\u001b[0m\u001b[0;34m.\u001b[0m\u001b[0mt\u001b[0m\u001b[0;34m(\u001b[0m\u001b[0;34m)\u001b[0m\u001b[0;34m)\u001b[0m\u001b[0;34m\u001b[0m\u001b[0;34m\u001b[0m\u001b[0m\n\u001b[0m\u001b[1;32m   1355\u001b[0m         \u001b[0;32mif\u001b[0m \u001b[0mbias\u001b[0m \u001b[0;32mis\u001b[0m \u001b[0;32mnot\u001b[0m \u001b[0;32mNone\u001b[0m\u001b[0;34m:\u001b[0m\u001b[0;34m\u001b[0m\u001b[0;34m\u001b[0m\u001b[0m\n\u001b[1;32m   1356\u001b[0m             \u001b[0moutput\u001b[0m \u001b[0;34m+=\u001b[0m \u001b[0mtorch\u001b[0m\u001b[0;34m.\u001b[0m\u001b[0mjit\u001b[0m\u001b[0;34m.\u001b[0m\u001b[0m_unwrap_optional\u001b[0m\u001b[0;34m(\u001b[0m\u001b[0mbias\u001b[0m\u001b[0;34m)\u001b[0m\u001b[0;34m\u001b[0m\u001b[0;34m\u001b[0m\u001b[0m\n",
            "\u001b[0;31mRuntimeError\u001b[0m: CUDA out of memory. Tried to allocate 107.17 GiB (GPU 0; 11.17 GiB total capacity; 2.54 GiB already allocated; 8.25 GiB free; 74.95 MiB cached)"
          ]
        }
      ]
    },
    {
      "metadata": {
        "id": "GSlQlhYZ39Zc",
        "colab_type": "code",
        "outputId": "ffedfbc0-913d-4657-9e87-8c45bdf26d8e",
        "colab": {
          "base_uri": "https://localhost:8080/",
          "height": 496
        }
      },
      "cell_type": "code",
      "source": [
        "my_train(aenc_deep, X_train_tensor, X_test_tensor, 20)"
      ],
      "execution_count": 0,
      "outputs": [
        {
          "output_type": "stream",
          "text": [
            "/usr/local/lib/python3.6/dist-packages/torch/nn/modules/upsampling.py:129: UserWarning: nn.UpsamplingBilinear2d is deprecated. Use nn.functional.interpolate instead.\n",
            "  warnings.warn(\"nn.{} is deprecated. Use nn.functional.interpolate instead.\".format(self.name))\n"
          ],
          "name": "stderr"
        },
        {
          "output_type": "stream",
          "text": [
            "#1, Train loss: 0.0062509\n",
            "#2, Train loss: 0.0053271\n",
            "#3, Train loss: 0.0049967\n",
            "#4, Train loss: 0.0048303\n",
            "#5, Train loss: 0.0047328\n",
            "#6, Train loss: 0.0046673\n",
            "#7, Train loss: 0.0046197\n",
            "#8, Train loss: 0.0045828\n",
            "#9, Train loss: 0.0045521\n",
            "#10, Train loss: 0.0045254\n",
            "Test MSE: 0.005093402803049238 on epoch 10\n",
            "#11, Train loss: 0.0045005\n",
            "#12, Train loss: 0.0044784\n",
            "#13, Train loss: 0.0044576\n",
            "#14, Train loss: 0.0044371\n",
            "#15, Train loss: 0.0044175\n",
            "#16, Train loss: 0.0043985\n",
            "#17, Train loss: 0.0043802\n",
            "#18, Train loss: 0.0043624\n",
            "#19, Train loss: 0.0043454\n",
            "#20, Train loss: 0.0043281\n",
            "Test MSE: 0.005047038877401482 on epoch 20\n"
          ],
          "name": "stdout"
        }
      ]
    },
    {
      "metadata": {
        "colab_type": "text",
        "id": "tLkLF1hC_eXh"
      },
      "cell_type": "markdown",
      "source": [
        "Training may take long, it's okay."
      ]
    },
    {
      "metadata": {
        "colab_type": "text",
        "id": "twGO5gAa4n7Y"
      },
      "cell_type": "markdown",
      "source": [
        "**Check autoencoder shapes along different code_sizes. Check architecture of you encoder-decoder network is correct**"
      ]
    },
    {
      "metadata": {
        "colab_type": "code",
        "id": "HmR7ot5__eXi",
        "outputId": "9e6798f5-5971-4f32-c803-049ab5ef51ba",
        "colab": {
          "base_uri": "https://localhost:8080/",
          "height": 348
        }
      },
      "cell_type": "code",
      "source": [
        "get_dim = lambda layer: np.prod(layer.output_shape[1:])\n",
        "for code_size in [1,8,32,128,512,1024]:\n",
        "    help_tensor = next(iter(DataLoader(X_train_tensor, batch_size=BATCH_SIZE)))\n",
        "    model = pca_autoencoder_deep(X_train_tensor.shape[2], X_train_tensor.shape[3], code_size).to(device)\n",
        "    encoder_out = model.enc(help_tensor.type('torch.FloatTensor').cuda())\n",
        "    decoder_out = model.dec(encoder_out)\n",
        "    print(\"Testing code size %i\" % code_size)\n",
        "\n",
        "    assert encoder_out.shape[1:]==torch.Size([code_size]),\"encoder must output a code of required size\"\n",
        "    assert decoder_out.shape[1:]==img_shape,   \"decoder must output an image of valid shape\"\n",
        "\n",
        "    assert (len(list(model.dec.children())) >= 6),  \"decoder must contain at least 3 dense layers\"\n",
        "\n",
        "print(\"All tests passed!\")"
      ],
      "execution_count": 0,
      "outputs": [
        {
          "output_type": "stream",
          "text": [
            "Testing code size 1\n"
          ],
          "name": "stdout"
        },
        {
          "output_type": "stream",
          "text": [
            "/usr/local/lib/python3.6/dist-packages/torch/nn/modules/upsampling.py:129: UserWarning: nn.UpsamplingBilinear2d is deprecated. Use nn.functional.interpolate instead.\n",
            "  warnings.warn(\"nn.{} is deprecated. Use nn.functional.interpolate instead.\".format(self.name))\n"
          ],
          "name": "stderr"
        },
        {
          "output_type": "error",
          "ename": "AssertionError",
          "evalue": "ignored",
          "traceback": [
            "\u001b[0;31m---------------------------------------------------------------------------\u001b[0m",
            "\u001b[0;31mAssertionError\u001b[0m                            Traceback (most recent call last)",
            "\u001b[0;32m<ipython-input-126-112bbbbb6dc3>\u001b[0m in \u001b[0;36m<module>\u001b[0;34m()\u001b[0m\n\u001b[1;32m     10\u001b[0m     \u001b[0;32massert\u001b[0m \u001b[0mdecoder_out\u001b[0m\u001b[0;34m.\u001b[0m\u001b[0mshape\u001b[0m\u001b[0;34m[\u001b[0m\u001b[0;36m1\u001b[0m\u001b[0;34m:\u001b[0m\u001b[0;34m]\u001b[0m\u001b[0;34m==\u001b[0m\u001b[0mimg_shape\u001b[0m\u001b[0;34m,\u001b[0m   \u001b[0;34m\"decoder must output an image of valid shape\"\u001b[0m\u001b[0;34m\u001b[0m\u001b[0;34m\u001b[0m\u001b[0m\n\u001b[1;32m     11\u001b[0m \u001b[0;34m\u001b[0m\u001b[0m\n\u001b[0;32m---> 12\u001b[0;31m     \u001b[0;32massert\u001b[0m \u001b[0;34m(\u001b[0m\u001b[0mlen\u001b[0m\u001b[0;34m(\u001b[0m\u001b[0mlist\u001b[0m\u001b[0;34m(\u001b[0m\u001b[0mmodel\u001b[0m\u001b[0;34m.\u001b[0m\u001b[0mdec\u001b[0m\u001b[0;34m.\u001b[0m\u001b[0mchildren\u001b[0m\u001b[0;34m(\u001b[0m\u001b[0;34m)\u001b[0m\u001b[0;34m)\u001b[0m\u001b[0;34m)\u001b[0m \u001b[0;34m>=\u001b[0m \u001b[0;36m6\u001b[0m\u001b[0;34m)\u001b[0m\u001b[0;34m,\u001b[0m  \u001b[0;34m\"decoder must contain at least 3 dense layers\"\u001b[0m\u001b[0;34m\u001b[0m\u001b[0;34m\u001b[0m\u001b[0m\n\u001b[0m\u001b[1;32m     13\u001b[0m \u001b[0;34m\u001b[0m\u001b[0m\n\u001b[1;32m     14\u001b[0m \u001b[0mprint\u001b[0m\u001b[0;34m(\u001b[0m\u001b[0;34m\"All tests passed!\"\u001b[0m\u001b[0;34m)\u001b[0m\u001b[0;34m\u001b[0m\u001b[0;34m\u001b[0m\u001b[0m\n",
            "\u001b[0;31mAssertionError\u001b[0m: decoder must contain at least 3 dense layers"
          ]
        }
      ]
    },
    {
      "metadata": {
        "colab_type": "text",
        "id": "GiNYsxJQ_eXk"
      },
      "cell_type": "markdown",
      "source": [
        "__Hint:__ if you're getting \"Encoder layer is smaller than bottleneck\" error, use code_size when defining intermediate layers. \n",
        "\n",
        "For example, such layer may have code_size*2 units."
      ]
    },
    {
      "metadata": {
        "colab_type": "text",
        "id": "tkJCskEvyixo"
      },
      "cell_type": "markdown",
      "source": [
        "** Lets check you model's score. You should beat value of 0.005 **"
      ]
    },
    {
      "metadata": {
        "colab_type": "code",
        "id": "khcs90Yi_eXl",
        "outputId": "baec638a-20e7-4e86-9bfa-0a9190504da6",
        "colab": {
          "base_uri": "https://localhost:8080/",
          "height": 340
        }
      },
      "cell_type": "code",
      "source": [
        "dataloader_test = DataLoader(X_test_tensor, batch_size=BATCH_SIZE, shuffle=True)\n",
        "scores = []\n",
        "for i, (batch) in enumerate(dataloader_test):\n",
        "    scores.append(aenc_deep.batch_loss(batch.cuda(device = device)).data.cpu().numpy())\n",
        "    encoder_out = aenc_deep.enc(batch.cuda(device = device))\n",
        "reconstruction_mse  = np.mean(scores)\n",
        "print(reconstruction_mse)\n",
        "\n",
        "assert reconstruction_mse <= 0.005, \"Compression is too lossy. See tips below.\"\n",
        "assert len(encoder_out.shape)==2 and encoder_out.shape[1]==32, \"Make sure encoder has code_size units\"\n",
        "print(\"Final MSE:\", reconstruction_mse)\n",
        "for i in range(5):\n",
        "    img = X_test_tensor[i]\n",
        "    visualize(img,aenc_deep)"
      ],
      "execution_count": 0,
      "outputs": [
        {
          "output_type": "stream",
          "text": [
            "/usr/local/lib/python3.6/dist-packages/torch/nn/modules/upsampling.py:129: UserWarning: nn.UpsamplingBilinear2d is deprecated. Use nn.functional.interpolate instead.\n",
            "  warnings.warn(\"nn.{} is deprecated. Use nn.functional.interpolate instead.\".format(self.name))\n"
          ],
          "name": "stderr"
        },
        {
          "output_type": "stream",
          "text": [
            "0.005055356426647729\n"
          ],
          "name": "stdout"
        },
        {
          "output_type": "error",
          "ename": "AssertionError",
          "evalue": "ignored",
          "traceback": [
            "\u001b[0;31m---------------------------------------------------------------------------\u001b[0m",
            "\u001b[0;31mAssertionError\u001b[0m                            Traceback (most recent call last)",
            "\u001b[0;32m<ipython-input-127-ab7abf9ed7f6>\u001b[0m in \u001b[0;36m<module>\u001b[0;34m()\u001b[0m\n\u001b[1;32m      7\u001b[0m \u001b[0mprint\u001b[0m\u001b[0;34m(\u001b[0m\u001b[0mreconstruction_mse\u001b[0m\u001b[0;34m)\u001b[0m\u001b[0;34m\u001b[0m\u001b[0;34m\u001b[0m\u001b[0m\n\u001b[1;32m      8\u001b[0m \u001b[0;34m\u001b[0m\u001b[0m\n\u001b[0;32m----> 9\u001b[0;31m \u001b[0;32massert\u001b[0m \u001b[0mreconstruction_mse\u001b[0m \u001b[0;34m<=\u001b[0m \u001b[0;36m0.005\u001b[0m\u001b[0;34m,\u001b[0m \u001b[0;34m\"Compression is too lossy. See tips below.\"\u001b[0m\u001b[0;34m\u001b[0m\u001b[0;34m\u001b[0m\u001b[0m\n\u001b[0m\u001b[1;32m     10\u001b[0m \u001b[0;32massert\u001b[0m \u001b[0mlen\u001b[0m\u001b[0;34m(\u001b[0m\u001b[0mencoder_out\u001b[0m\u001b[0;34m.\u001b[0m\u001b[0mshape\u001b[0m\u001b[0;34m)\u001b[0m\u001b[0;34m==\u001b[0m\u001b[0;36m2\u001b[0m \u001b[0;32mand\u001b[0m \u001b[0mencoder_out\u001b[0m\u001b[0;34m.\u001b[0m\u001b[0mshape\u001b[0m\u001b[0;34m[\u001b[0m\u001b[0;36m1\u001b[0m\u001b[0;34m]\u001b[0m\u001b[0;34m==\u001b[0m\u001b[0;36m32\u001b[0m\u001b[0;34m,\u001b[0m \u001b[0;34m\"Make sure encoder has code_size units\"\u001b[0m\u001b[0;34m\u001b[0m\u001b[0;34m\u001b[0m\u001b[0m\n\u001b[1;32m     11\u001b[0m \u001b[0mprint\u001b[0m\u001b[0;34m(\u001b[0m\u001b[0;34m\"Final MSE:\"\u001b[0m\u001b[0;34m,\u001b[0m \u001b[0mreconstruction_mse\u001b[0m\u001b[0;34m)\u001b[0m\u001b[0;34m\u001b[0m\u001b[0;34m\u001b[0m\u001b[0m\n",
            "\u001b[0;31mAssertionError\u001b[0m: Compression is too lossy. See tips below."
          ]
        }
      ]
    },
    {
      "metadata": {
        "colab_type": "text",
        "id": "KNlhwrtc_eXo"
      },
      "cell_type": "markdown",
      "source": [
        "__Tips:__ If you keep getting \"Compression to lossy\" error, there's a few things you might try:\n",
        "\n",
        "* Make sure it converged. Some architectures need way more than 32 epochs to converge. They may fluctuate a lot, but eventually they're going to get good enough to pass. You may train your network for as long as you want.\n",
        "\n",
        "* Complexity. If you already have, like, 152 layers and still not passing threshold, you may wish to start from something simpler instead and go in small incremental steps.\n",
        "\n",
        "* Architecture. You can use any combination of layers (including convolutions, normalization, etc) as long as __encoder output only stores 32 numbers per training object__. \n",
        "\n",
        "A cunning learner can circumvent this last limitation by using some manual encoding strategy, but he is strongly recommended to avoid that."
      ]
    },
    {
      "metadata": {
        "colab_type": "text",
        "id": "JQkFuzTz_eXp"
      },
      "cell_type": "markdown",
      "source": [
        "## Denoising AutoEncoder\n",
        "\n",
        "Let's now make our model into a denoising autoencoder.\n",
        "\n",
        "We'll keep your model architecture, but change the way it trains. In particular, we'll corrupt it's input data randomly before each epoch.\n",
        "\n",
        "There are many strategies to apply noise. We'll implement two popular one: adding gaussian noise and using dropout."
      ]
    },
    {
      "metadata": {
        "colab_type": "code",
        "id": "sQUS359N_eXq",
        "colab": {}
      },
      "cell_type": "code",
      "source": [
        "def apply_gaussian_noise(X,sigma=0.1):\n",
        "    \"\"\"\n",
        "    adds noise from normal distribution with standard deviation sigma\n",
        "    :param X: image tensor of shape [batch,height,width,3]\n",
        "    \"\"\"\n",
        "        \n",
        "    #<Your code: define noise>\n",
        "        \n",
        "    return X + noise\n",
        "    "
      ],
      "execution_count": 0,
      "outputs": []
    },
    {
      "metadata": {
        "colab_type": "text",
        "id": "xy71ZmuPz1il"
      },
      "cell_type": "markdown",
      "source": [
        "**noise tests**"
      ]
    },
    {
      "metadata": {
        "colab_type": "code",
        "id": "pslPEzXS_eXs",
        "colab": {}
      },
      "cell_type": "code",
      "source": [
        "\n",
        "theoretical_std = (X[:100].std()**2 + 0.5**2)**.5\n",
        "our_std = apply_gaussian_noise(X[:100],sigma=0.5).std()\n",
        "assert abs(theoretical_std - our_std) < 0.01, \"Standard deviation does not match it's required value. Make sure you use sigma as std.\"\n",
        "assert abs(apply_gaussian_noise(X[:100],sigma=0.5).mean() - X[:100].mean()) < 0.01, \"Mean has changed. Please add zero-mean noise\""
      ],
      "execution_count": 0,
      "outputs": []
    },
    {
      "metadata": {
        "colab_type": "code",
        "id": "unMfBi8q_eXu",
        "colab": {}
      },
      "cell_type": "code",
      "source": [
        "plt.subplot(1,4,1)\n",
        "plt.imshow(X[0].transpose([1,2,0]))\n",
        "plt.subplot(1,4,2)\n",
        "plt.imshow(apply_gaussian_noise(X[:1],sigma=0.01)[0].transpose([1,2,0]).clip(0, 1))\n",
        "plt.subplot(1,4,3)\n",
        "plt.imshow(apply_gaussian_noise(X[:1],sigma=0.1)[0].transpose([1,2,0]).clip(0, 1))\n",
        "plt.subplot(1,4,4)\n",
        "plt.imshow(apply_gaussian_noise(X[:1],sigma=0.5)[0].transpose([1,2,0]).clip(0, 1))"
      ],
      "execution_count": 0,
      "outputs": []
    },
    {
      "metadata": {
        "colab_type": "code",
        "id": "9hHGK_Wr_eXx",
        "colab": {}
      },
      "cell_type": "code",
      "source": [
        "def train_noise(model, dataset, num_epoch=50):\n",
        "    #<Your code: define train function for denoising autoencoder as train function above>"
      ],
      "execution_count": 0,
      "outputs": []
    },
    {
      "metadata": {
        "colab_type": "code",
        "id": "MKQK4HJL_eX2",
        "colab": {}
      },
      "cell_type": "code",
      "source": [
        "X_train_noise = apply_gaussian_noise(X_train)\n",
        "X_test_noise = apply_gaussian_noise(X_test)"
      ],
      "execution_count": 0,
      "outputs": []
    },
    {
      "metadata": {
        "colab_type": "code",
        "id": "8ClYTlpa_eX4",
        "colab": {}
      },
      "cell_type": "code",
      "source": [
        "X_train_tensor_n = torch.from_numpy(X_train_noise).type(torch.DoubleTensor)\n",
        "X_test_tensor_n = torch.Tensor(X_test_noise).type(torch.DoubleTensor)"
      ],
      "execution_count": 0,
      "outputs": []
    },
    {
      "metadata": {
        "colab_type": "code",
        "id": "fVD2-ujS_eX8",
        "colab": {}
      },
      "cell_type": "code",
      "source": [
        "aenc = pca_autoencoder()\n",
        "train(aenc, X_train_tensor_n, 50)"
      ],
      "execution_count": 0,
      "outputs": []
    },
    {
      "metadata": {
        "colab_type": "text",
        "id": "mlekH4ww_eX_"
      },
      "cell_type": "markdown",
      "source": [
        "__Note:__ if it hasn't yet converged, increase the number of iterations.\n",
        "\n",
        "__Bonus:__ replace gaussian noise with masking random rectangles on image."
      ]
    },
    {
      "metadata": {
        "colab_type": "text",
        "id": "HVj0NPXV3liL"
      },
      "cell_type": "markdown",
      "source": [
        "** Let's evaluate!!! **"
      ]
    },
    {
      "metadata": {
        "colab_type": "code",
        "id": "pr1Drxb1_eX_",
        "colab": {}
      },
      "cell_type": "code",
      "source": [
        "dataloader_test = DataLoader(X_test_tensor_n, batch_size=BATCH_SIZE, shuffle=True)\n",
        "scores = []\n",
        "for i, (batch) in enumerate(dataloader_test):\n",
        "    scores.append(aenc.batch_loss(batch.cuda(device = device)).data.cpu().numpy())\n",
        "    encoder_out = aenc.enc(batch.cuda(device = device))\n",
        "reconstruction_mse  = np.mean(scores)\n",
        "\n",
        "print(\"Final MSE:\", reconstruction_mse)\n",
        "for i in range(5):\n",
        "    img = X_test_tensor_n[i]\n",
        "    visualize(img,aenc)"
      ],
      "execution_count": 0,
      "outputs": []
    },
    {
      "metadata": {
        "colab_type": "text",
        "id": "weU6quCI_eYE"
      },
      "cell_type": "markdown",
      "source": [
        "### Image retrieval with autoencoders\n",
        "\n",
        "So we've just trained a network that converts image into itself imperfectly. This task is not that useful in and of itself, but it has a number of awesome side-effects. Let's see it in action.\n",
        "\n",
        "First thing we can do is image retrieval aka image search. We we give it an image and find similar images in latent space. \n",
        "\n",
        "To speed up retrieval process, we shall use Locality-Sensitive Hashing on top of encoded vectors. We'll use scikit-learn's implementation for simplicity. In practical scenario, you may want to use [specialized libraries](https://erikbern.com/2015/07/04/benchmark-of-approximate-nearest-neighbor-libraries.html) for better performance and customization."
      ]
    },
    {
      "metadata": {
        "colab_type": "code",
        "id": "afiR-pC3_eYG",
        "colab": {}
      },
      "cell_type": "code",
      "source": [
        "#encodes batch of images into a codes\n",
        "\n",
        "\n",
        "codes = #<Your code:encode all images in X_train_tensor>\n"
      ],
      "execution_count": 0,
      "outputs": []
    },
    {
      "metadata": {
        "colab_type": "code",
        "id": "nojmuKtb_eYI",
        "colab": {}
      },
      "cell_type": "code",
      "source": [
        "assert codes.shape[0] == X_train_tensor.shape[0]"
      ],
      "execution_count": 0,
      "outputs": []
    },
    {
      "metadata": {
        "colab_type": "code",
        "id": "GfGatyHi_eYK",
        "colab": {}
      },
      "cell_type": "code",
      "source": [
        "from sklearn.neighbors import LSHForest\n",
        "lshf = LSHForest(n_estimators=50).fit(codes.detach().cpu().numpy())"
      ],
      "execution_count": 0,
      "outputs": []
    },
    {
      "metadata": {
        "colab_type": "code",
        "id": "FYhbhxLz_eYN",
        "colab": {}
      },
      "cell_type": "code",
      "source": [
        "images = torch.from_numpy(X_train).type(torch.DoubleTensor)"
      ],
      "execution_count": 0,
      "outputs": []
    },
    {
      "metadata": {
        "colab_type": "code",
        "id": "shw1V6Zn_eYP",
        "colab": {}
      },
      "cell_type": "code",
      "source": [
        "def get_similar(image, n_neighbors=5):\n",
        "    assert len(image.shape)==3,\"image must be [batch,height,width,3]\"\n",
        "\n",
        "    code = aenc.enc(image.cuda(device)).detach().cpu().numpy()\n",
        "    \n",
        "    (distances,),(idx,) = #<Your code: using lshf.kneighbors find nearest neighbors>\n",
        "    \n",
        "    return distances,images[idx]"
      ],
      "execution_count": 0,
      "outputs": []
    },
    {
      "metadata": {
        "colab_type": "code",
        "id": "5JkabL1A_eYQ",
        "colab": {}
      },
      "cell_type": "code",
      "source": [
        "def show_similar(image):\n",
        "    \n",
        "    distances,neighbors = get_similar(image,n_neighbors=11)\n",
        "    \n",
        "    plt.figure(figsize=[8,6])\n",
        "    plt.subplot(3,4,1)\n",
        "    plt.imshow(image.cpu().numpy().transpose([1,2,0]))\n",
        "    plt.title(\"Original image\")\n",
        "    \n",
        "    for i in range(11):\n",
        "        plt.subplot(3,4,i+2)\n",
        "        plt.imshow(neighbors[i].cpu().numpy().transpose([1,2,0]))\n",
        "        plt.title(\"Dist=%.3f\"%distances[i])\n",
        "    plt.show()"
      ],
      "execution_count": 0,
      "outputs": []
    },
    {
      "metadata": {
        "colab_type": "code",
        "id": "VG_0tXSq_eYT",
        "colab": {}
      },
      "cell_type": "code",
      "source": [
        "#smiles\n",
        "show_similar(X_test_tensor[2])"
      ],
      "execution_count": 0,
      "outputs": []
    },
    {
      "metadata": {
        "colab_type": "code",
        "id": "4Z25ZSQO_eYV",
        "colab": {}
      },
      "cell_type": "code",
      "source": [
        "#ethnicity\n",
        "show_similar(X_test_tensor[500])"
      ],
      "execution_count": 0,
      "outputs": []
    },
    {
      "metadata": {
        "colab_type": "code",
        "id": "uPyK6-vk_eYf",
        "colab": {}
      },
      "cell_type": "code",
      "source": [
        "#glasses\n",
        "show_similar(X_test_tensor[66])"
      ],
      "execution_count": 0,
      "outputs": []
    },
    {
      "metadata": {
        "colab_type": "text",
        "collapsed": true,
        "id": "piVrNWXZ_eYn"
      },
      "cell_type": "markdown",
      "source": [
        "## Cheap image morphing\n"
      ]
    },
    {
      "metadata": {
        "colab_type": "text",
        "id": "DYqDtg6K2z5e"
      },
      "cell_type": "markdown",
      "source": [
        "Here you should take two full-sized objects, code it and obtain intermediate object by decoding an intermixture code.\n",
        "\n",
        "$Code_{mixt} = a1\\cdot code1 + a2\\cdot code2$"
      ]
    },
    {
      "metadata": {
        "colab_type": "code",
        "id": "IFDk4E7N_eYr",
        "colab": {}
      },
      "cell_type": "code",
      "source": [
        "\n",
        "for _ in range(5):\n",
        "    image1,image2 =#<Your code:choose two image randomly>\n",
        "\n",
        "    code1, code2 = #<Your code:decode it>\n",
        "\n",
        "\n",
        "    plt.figure(figsize=[10,4])\n",
        "    for i,a in enumerate(np.linspace(0,1,num=7)):\n",
        "\n",
        "        output_code = #<Your code:define intermixture code>\n",
        "\n",
        "        output_image = aenc.dec(output_code[None])[0]\n",
        "        plt.subplot(1,7,i+1)\n",
        "        plt.imshow(output_image.cpu().detach().numpy().transpose([1,2,0]))\n",
        "        plt.title(\"a=%.2f\"%a)\n",
        "        \n",
        "    plt.show()"
      ],
      "execution_count": 0,
      "outputs": []
    },
    {
      "metadata": {
        "colab_type": "text",
        "collapsed": true,
        "id": "lKZTo47L_eYu"
      },
      "cell_type": "markdown",
      "source": [
        "Of course there's a lot more you can do with autoencoders.\n",
        "\n",
        "If you want to generate images from scratch, however, we recommend you our honor track seminar about generative adversarial networks."
      ]
    }
  ]
}