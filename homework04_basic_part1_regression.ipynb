{
  "nbformat": 4,
  "nbformat_minor": 0,
  "metadata": {
    "colab": {
      "name": "homework04_basic_part1_regression.ipynb",
      "version": "0.3.2",
      "provenance": [],
      "include_colab_link": true
    },
    "language_info": {
      "codemirror_mode": {
        "name": "ipython",
        "version": 3
      },
      "file_extension": ".py",
      "mimetype": "text/x-python",
      "name": "python",
      "nbconvert_exporter": "python",
      "pygments_lexer": "ipython3",
      "version": "3.6.8"
    },
    "kernelspec": {
      "name": "python3",
      "display_name": "Python 3"
    },
    "accelerator": "GPU"
  },
  "cells": [
    {
      "cell_type": "markdown",
      "metadata": {
        "id": "view-in-github",
        "colab_type": "text"
      },
      "source": [
        "<a href=\"https://colab.research.google.com/github/Radi4/DL_colab/blob/master/homework04_basic_part1_regression.ipynb\" target=\"_parent\"><img src=\"https://colab.research.google.com/assets/colab-badge.svg\" alt=\"Open In Colab\"/></a>"
      ]
    },
    {
      "metadata": {
        "id": "Y6nF_7W0B0M0",
        "colab_type": "text"
      },
      "cell_type": "markdown",
      "source": [
        "# Natural Language Processing with Deep Learning (7 points)\n",
        "\n",
        "Today we're gonna apply the newly learned DL tools for sequence processing to the task of predicting job salary.\n",
        "\n",
        "Special thanks to [Oleg Vasilev](https://github.com/Omrigan/) for the assignment core (orignally written for theano/tensorflow)."
      ]
    },
    {
      "metadata": {
        "id": "-YX_2mCUB0M2",
        "colab_type": "code",
        "colab": {}
      },
      "cell_type": "code",
      "source": [
        "import numpy as np\n",
        "import pandas as pd\n",
        "import matplotlib.pyplot as plt\n",
        "%matplotlib inline"
      ],
      "execution_count": 0,
      "outputs": []
    },
    {
      "metadata": {
        "id": "RyRuN337EFJJ",
        "colab_type": "code",
        "colab": {
          "base_uri": "https://localhost:8080/",
          "height": 164
        },
        "outputId": "2b297ed6-3157-467b-c0ef-0ecb0565fbef"
      },
      "cell_type": "code",
      "source": [
        "from google.colab import drive\n",
        "drive.mount('/content/gdrive')"
      ],
      "execution_count": 1,
      "outputs": [
        {
          "output_type": "stream",
          "text": [
            "Go to this URL in a browser: https://accounts.google.com/o/oauth2/auth?client_id=947318989803-6bn6qk8qdgf4n4g3pfee6491hc0brc4i.apps.googleusercontent.com&redirect_uri=urn%3Aietf%3Awg%3Aoauth%3A2.0%3Aoob&scope=email%20https%3A%2F%2Fwww.googleapis.com%2Fauth%2Fdocs.test%20https%3A%2F%2Fwww.googleapis.com%2Fauth%2Fdrive%20https%3A%2F%2Fwww.googleapis.com%2Fauth%2Fdrive.photos.readonly%20https%3A%2F%2Fwww.googleapis.com%2Fauth%2Fpeopleapi.readonly&response_type=code\n",
            "\n",
            "Enter your authorization code:\n",
            "··········\n",
            "Mounted at /content/gdrive\n"
          ],
          "name": "stdout"
        }
      ]
    },
    {
      "metadata": {
        "id": "4H2h54ezEGDv",
        "colab_type": "code",
        "colab": {
          "base_uri": "https://localhost:8080/",
          "height": 165
        },
        "outputId": "1b4c5c5f-cfc0-4bc0-bb58-415374898cf3"
      },
      "cell_type": "code",
      "source": [
        "#cp from gdrive\n",
        "!cp ./gdrive/'My Drive'/Train_rev1.csv ./"
      ],
      "execution_count": 7,
      "outputs": [
        {
          "output_type": "stream",
          "text": [
            "gdrive\tsample_data  Train_rev1.csv\n"
          ],
          "name": "stdout"
        }
      ]
    },
    {
      "metadata": {
        "id": "vyjbvJ9xB0M9",
        "colab_type": "text"
      },
      "cell_type": "markdown",
      "source": [
        "### About the challenge\n",
        "For starters, let's download the data from __[here](https://yadi.sk/d/vVEOWPFY3NruT7)__.\n",
        "\n",
        "You can also get it from the competition [page](https://www.kaggle.com/c/job-salary-prediction/data) (in that case, pick `Train_rev1.*`).\n",
        "\n",
        "\n",
        "Our task is to predict one number, __SalaryNormalized__, in the sense of minimizing __Mean Absolute Error__.\n",
        "\n",
        "<img src=\"https://storage.googleapis.com/kaggle-competitions/kaggle/3342/media/salary%20prediction%20engine%20v2.png\" width=400px>\n",
        "\n",
        "To do so, our model ca access a number of features:\n",
        "* Free text: __`Title`__ and  __`FullDescription`__\n",
        "* Categorical: __`Category`__, __`Company`__, __`LocationNormalized`__, __`ContractType`__, and __`ContractTime`__.\n",
        "\n",
        "\n",
        "You can read more [in the official description](https://www.kaggle.com/c/job-salary-prediction#description)."
      ]
    },
    {
      "metadata": {
        "id": "ISziklanB0M-",
        "colab_type": "code",
        "colab": {
          "base_uri": "https://localhost:8080/",
          "height": 128
        },
        "outputId": "0eaf8117-51e4-4174-a756-1507b26db1b2"
      },
      "cell_type": "code",
      "source": [
        "data = pd.read_csv(\"./Train_rev1.csv\", index_col=None)\n",
        "data['Log1pSalary'] = np.log1p(data['SalaryNormalized']).astype('float32')\n",
        "\n",
        "text_columns = [\"Title\", \"FullDescription\"]\n",
        "categorical_columns = [\"Category\", \"Company\", \"LocationNormalized\", \"ContractType\", \"ContractTime\"]\n",
        "target_column = \"Log1pSalary\"\n",
        "data[categorical_columns] = data[categorical_columns].fillna('NaN') # cast nan to string\n",
        "\n",
        "data.sample(3)['FullDescription']"
      ],
      "execution_count": 10,
      "outputs": [
        {
          "output_type": "execute_result",
          "data": {
            "text/plain": [
              "141191    C. Net/Winforms Developers  Times 2  Excellent...\n",
              "175805    Lifeline Oxfordshire community drug & alcohol ...\n",
              "107271    Job Title: **** x Site Forepersons required fo...\n",
              "Name: FullDescription, dtype: object"
            ]
          },
          "metadata": {
            "tags": []
          },
          "execution_count": 10
        }
      ]
    },
    {
      "metadata": {
        "id": "8XrOg7mkB0NE",
        "colab_type": "code",
        "colab": {
          "base_uri": "https://localhost:8080/",
          "height": 348
        },
        "outputId": "11a24ada-4046-405c-9a18-a7a28bad879a"
      },
      "cell_type": "code",
      "source": [
        "data.sample(3)"
      ],
      "execution_count": 11,
      "outputs": [
        {
          "output_type": "execute_result",
          "data": {
            "text/html": [
              "<div>\n",
              "<style scoped>\n",
              "    .dataframe tbody tr th:only-of-type {\n",
              "        vertical-align: middle;\n",
              "    }\n",
              "\n",
              "    .dataframe tbody tr th {\n",
              "        vertical-align: top;\n",
              "    }\n",
              "\n",
              "    .dataframe thead th {\n",
              "        text-align: right;\n",
              "    }\n",
              "</style>\n",
              "<table border=\"1\" class=\"dataframe\">\n",
              "  <thead>\n",
              "    <tr style=\"text-align: right;\">\n",
              "      <th></th>\n",
              "      <th>Id</th>\n",
              "      <th>Title</th>\n",
              "      <th>FullDescription</th>\n",
              "      <th>LocationRaw</th>\n",
              "      <th>LocationNormalized</th>\n",
              "      <th>ContractType</th>\n",
              "      <th>ContractTime</th>\n",
              "      <th>Company</th>\n",
              "      <th>Category</th>\n",
              "      <th>SalaryRaw</th>\n",
              "      <th>SalaryNormalized</th>\n",
              "      <th>SourceName</th>\n",
              "      <th>Log1pSalary</th>\n",
              "    </tr>\n",
              "  </thead>\n",
              "  <tbody>\n",
              "    <tr>\n",
              "      <th>39189</th>\n",
              "      <td>68347249</td>\n",
              "      <td>Technical Sales Engineer</td>\n",
              "      <td>A Technical Sales Engineer role within a preci...</td>\n",
              "      <td>Preston,Blackburn,Blackpool,Wigan</td>\n",
              "      <td>UK</td>\n",
              "      <td>NaN</td>\n",
              "      <td>permanent</td>\n",
              "      <td>Kensington Consulting</td>\n",
              "      <td>Manufacturing Jobs</td>\n",
              "      <td>35,000</td>\n",
              "      <td>35000</td>\n",
              "      <td>jobsite.co.uk</td>\n",
              "      <td>10.463132</td>\n",
              "    </tr>\n",
              "    <tr>\n",
              "      <th>139365</th>\n",
              "      <td>70487093</td>\n",
              "      <td>Sous Chef  District line</td>\n",
              "      <td>Sous Chef needed for a Fresh food Concept base...</td>\n",
              "      <td>London, UK, Greater London</td>\n",
              "      <td>London</td>\n",
              "      <td>NaN</td>\n",
              "      <td>NaN</td>\n",
              "      <td>Cherryred Recruitment</td>\n",
              "      <td>Hospitality &amp; Catering Jobs</td>\n",
              "      <td>From 27,000 to 30,000 per annum</td>\n",
              "      <td>28500</td>\n",
              "      <td>jobs.catererandhotelkeeper.com</td>\n",
              "      <td>10.257694</td>\n",
              "    </tr>\n",
              "    <tr>\n",
              "      <th>83437</th>\n",
              "      <td>69054906</td>\n",
              "      <td>Social Worker (Temporary)  Dumfries Jobs In Sc...</td>\n",
              "      <td>Job Advert Social Worker (Temporary) (Ref: ***...</td>\n",
              "      <td>Dumfries and Galloway</td>\n",
              "      <td>Dumfries</td>\n",
              "      <td>NaN</td>\n",
              "      <td>contract</td>\n",
              "      <td>Dumfries Galloway Council</td>\n",
              "      <td>Social work Jobs</td>\n",
              "      <td>Up to 32,397 Annual</td>\n",
              "      <td>32397</td>\n",
              "      <td>jobsinscotland.com</td>\n",
              "      <td>10.385852</td>\n",
              "    </tr>\n",
              "  </tbody>\n",
              "</table>\n",
              "</div>"
            ],
            "text/plain": [
              "              Id                                              Title  \\\n",
              "39189   68347249                           Technical Sales Engineer   \n",
              "139365  70487093                           Sous Chef  District line   \n",
              "83437   69054906  Social Worker (Temporary)  Dumfries Jobs In Sc...   \n",
              "\n",
              "                                          FullDescription  \\\n",
              "39189   A Technical Sales Engineer role within a preci...   \n",
              "139365  Sous Chef needed for a Fresh food Concept base...   \n",
              "83437   Job Advert Social Worker (Temporary) (Ref: ***...   \n",
              "\n",
              "                              LocationRaw LocationNormalized ContractType  \\\n",
              "39189   Preston,Blackburn,Blackpool,Wigan                 UK          NaN   \n",
              "139365         London, UK, Greater London             London          NaN   \n",
              "83437               Dumfries and Galloway           Dumfries          NaN   \n",
              "\n",
              "       ContractTime                    Company                     Category  \\\n",
              "39189     permanent      Kensington Consulting           Manufacturing Jobs   \n",
              "139365          NaN      Cherryred Recruitment  Hospitality & Catering Jobs   \n",
              "83437      contract  Dumfries Galloway Council             Social work Jobs   \n",
              "\n",
              "                              SalaryRaw  SalaryNormalized  \\\n",
              "39189                            35,000             35000   \n",
              "139365  From 27,000 to 30,000 per annum             28500   \n",
              "83437               Up to 32,397 Annual             32397   \n",
              "\n",
              "                            SourceName  Log1pSalary  \n",
              "39189                    jobsite.co.uk    10.463132  \n",
              "139365  jobs.catererandhotelkeeper.com    10.257694  \n",
              "83437               jobsinscotland.com    10.385852  "
            ]
          },
          "metadata": {
            "tags": []
          },
          "execution_count": 11
        }
      ]
    },
    {
      "metadata": {
        "id": "S-zpA1DEB0NJ",
        "colab_type": "text"
      },
      "cell_type": "markdown",
      "source": [
        "### The NLP part\n",
        "\n",
        "To even begin training our neural network, we're gonna need to preprocess the text features: tokenize it and build the token vocabularies.\n",
        "\n",
        "Since it is not an NLP course, we're gonna use simple built-in NLTK tokenization."
      ]
    },
    {
      "metadata": {
        "id": "VmteN8S3B0NK",
        "colab_type": "code",
        "colab": {
          "base_uri": "https://localhost:8080/",
          "height": 125
        },
        "outputId": "bb56ff31-be13-4e89-988f-cc25ec818ef6"
      },
      "cell_type": "code",
      "source": [
        "print(\"Before\")\n",
        "print(data[\"Title\"][::100000])"
      ],
      "execution_count": 12,
      "outputs": [
        {
          "output_type": "stream",
          "text": [
            "Before\n",
            "0         Engineering Systems Analyst\n",
            "100000                   HR Assistant\n",
            "200000           Senior EC&I Engineer\n",
            "Name: Title, dtype: object\n"
          ],
          "name": "stdout"
        }
      ]
    },
    {
      "metadata": {
        "id": "YhX5PvtcB0NN",
        "colab_type": "code",
        "colab": {}
      },
      "cell_type": "code",
      "source": [
        "import nltk\n",
        "tokenizer = nltk.tokenize.WordPunctTokenizer()\n",
        "\n",
        "for col in text_columns:\n",
        "    data[col] = data[col].apply(lambda l: ' '.join(tokenizer.tokenize(str(l).lower())))"
      ],
      "execution_count": 0,
      "outputs": []
    },
    {
      "metadata": {
        "id": "82ODFJOiB0NP",
        "colab_type": "text"
      },
      "cell_type": "markdown",
      "source": [
        "Now we can assume that our text is a space-separated list of tokens:"
      ]
    },
    {
      "metadata": {
        "id": "BAyF-GdQB0NQ",
        "colab_type": "code",
        "colab": {
          "base_uri": "https://localhost:8080/",
          "height": 125
        },
        "outputId": "e301f4ce-8f91-40c1-9874-fd96a53b3204"
      },
      "cell_type": "code",
      "source": [
        "print(\"After\")\n",
        "print(data[\"Title\"][::100000])"
      ],
      "execution_count": 14,
      "outputs": [
        {
          "output_type": "stream",
          "text": [
            "After\n",
            "0         engineering systems analyst\n",
            "100000                   hr assistant\n",
            "200000         senior ec & i engineer\n",
            "Name: Title, dtype: object\n"
          ],
          "name": "stdout"
        }
      ]
    },
    {
      "metadata": {
        "id": "HOYHY8CzB0NS",
        "colab_type": "text"
      },
      "cell_type": "markdown",
      "source": [
        "Not all words are equally useful. Some of them are typos or rare words that are only present a few times. \n",
        "\n",
        "Let's see how many times is each word present in the data so that we can build a \"white list\" of known words."
      ]
    },
    {
      "metadata": {
        "id": "5jvgBTVdH6R5",
        "colab_type": "code",
        "colab": {}
      },
      "cell_type": "code",
      "source": [
        "def increase_token_counts(token_counts, tokens):\n",
        "  for token in tokens.split(' '):\n",
        "    token_counts[token] += 1"
      ],
      "execution_count": 0,
      "outputs": []
    },
    {
      "metadata": {
        "id": "6d3kcc9lB0NS",
        "colab_type": "code",
        "colab": {
          "base_uri": "https://localhost:8080/",
          "height": 76
        },
        "outputId": "b3ea48cd-dcae-4cb3-b35d-47826c2f0436"
      },
      "cell_type": "code",
      "source": [
        "from collections import Counter\n",
        "token_counts = Counter()\n",
        "\n",
        "# Count how many times does each token occur in \"Title\" and \"FullDescription\"\n",
        "data[\"Title\"].apply(lambda tokens : increase_token_counts(token_counts, tokens))\n",
        "data[\"FullDescription\"].apply(lambda tokens : increase_token_counts(token_counts, tokens))\n",
        "'Finish'"
      ],
      "execution_count": 34,
      "outputs": [
        {
          "output_type": "execute_result",
          "data": {
            "text/plain": [
              "'Finish'"
            ]
          },
          "metadata": {
            "tags": []
          },
          "execution_count": 34
        }
      ]
    },
    {
      "metadata": {
        "id": "Ze7nIy7oB0NU",
        "colab_type": "code",
        "colab": {
          "base_uri": "https://localhost:8080/",
          "height": 232
        },
        "outputId": "03f94ff6-4328-48fb-ad16-c4c7a6b39c26"
      },
      "cell_type": "code",
      "source": [
        "print(\"Total unique tokens :\", len(token_counts))\n",
        "print('\\n'.join(map(str, token_counts.most_common(n=5))))\n",
        "print('...')\n",
        "print('\\n'.join(map(str, token_counts.most_common()[-3:])))\n",
        "\n",
        "assert token_counts.most_common(1)[0][1] in  range(2600000, 2700000)\n",
        "assert len(token_counts) in range(200000, 210000)\n",
        "print('Correct!')"
      ],
      "execution_count": 35,
      "outputs": [
        {
          "output_type": "stream",
          "text": [
            "Total unique tokens : 202704\n",
            "('and', 2657388)\n",
            "('.', 2523216)\n",
            "(',', 2318606)\n",
            "('the', 2080994)\n",
            "('to', 2019884)\n",
            "...\n",
            "('stephanietraveltraderecruitmnt', 1)\n",
            "('ruabon', 1)\n",
            "('lowehays', 1)\n",
            "Correct!\n"
          ],
          "name": "stdout"
        }
      ]
    },
    {
      "metadata": {
        "id": "hgI15ELXB0NW",
        "colab_type": "code",
        "colab": {
          "base_uri": "https://localhost:8080/",
          "height": 300
        },
        "outputId": "e9c3f381-ac4e-4648-87f2-f59303af741a"
      },
      "cell_type": "code",
      "source": [
        "# Let's see how many words are there for each count\n",
        "\n",
        "_ = plt.hist(list(token_counts.values()), range=[0, 10**4], bins=50, log=True)\n",
        "plt.xlabel(\"Counts\")"
      ],
      "execution_count": 36,
      "outputs": [
        {
          "output_type": "execute_result",
          "data": {
            "text/plain": [
              "Text(0.5, 0, 'Counts')"
            ]
          },
          "metadata": {
            "tags": []
          },
          "execution_count": 36
        },
        {
          "output_type": "display_data",
          "data": {
            "image/png": "[encoded data removed]",
            "text/plain": [
              "<Figure size 432x288 with 1 Axes>"
            ]
          },
          "metadata": {
            "tags": []
          }
        }
      ]
    },
    {
      "metadata": {
        "id": "Czr4XWzPB0NY",
        "colab_type": "text"
      },
      "cell_type": "markdown",
      "source": [
        "__Task 1.1__ Get a list of all tokens that occur at least 10 times."
      ]
    },
    {
      "metadata": {
        "id": "-n1iB1EoB0NZ",
        "colab_type": "code",
        "colab": {}
      },
      "cell_type": "code",
      "source": [
        "min_count = 10\n",
        "\n",
        "# tokens from token_counts keys that had at least min_count occurrences throughout the dataset\n",
        "tokens = [token for token, val in token_counts.items() if val >= min_count]\n",
        "\n",
        "# Add a special tokens for unknown and empty words\n",
        "UNK, PAD = \"UNK\", \"PAD\"\n",
        "tokens = [UNK, PAD] + tokens"
      ],
      "execution_count": 0,
      "outputs": []
    },
    {
      "metadata": {
        "id": "XJfqq2ekB0Na",
        "colab_type": "code",
        "colab": {
          "base_uri": "https://localhost:8080/",
          "height": 72
        },
        "outputId": "5f9c6937-4770-4fd0-b17b-78bee07ac274"
      },
      "cell_type": "code",
      "source": [
        "print(\"Tokens left:\", len(tokens))\n",
        "assert type(tokens)==list\n",
        "assert len(tokens) in range(32000,35000)\n",
        "assert 'me' in tokens\n",
        "assert UNK in tokens\n",
        "print(\"Correct!\")"
      ],
      "execution_count": 39,
      "outputs": [
        {
          "output_type": "stream",
          "text": [
            "Tokens left: 34158\n",
            "Correct!\n"
          ],
          "name": "stdout"
        }
      ]
    },
    {
      "metadata": {
        "id": "bxhp4sy4B0Nb",
        "colab_type": "text"
      },
      "cell_type": "markdown",
      "source": [
        "__Task 1.2__ Build an inverse token index: a dictionary from token(string) to it's index in `tokens` (int)"
      ]
    },
    {
      "metadata": {
        "id": "OyiTJyOpB0Nc",
        "colab_type": "code",
        "colab": {}
      },
      "cell_type": "code",
      "source": [
        "token_to_id = {token : index for index, token in enumerate(tokens)}"
      ],
      "execution_count": 0,
      "outputs": []
    },
    {
      "metadata": {
        "id": "AsHXPZxOB0Ne",
        "colab_type": "code",
        "colab": {
          "base_uri": "https://localhost:8080/",
          "height": 56
        },
        "outputId": "651cfe7f-6d52-4f5b-a32d-d50d100540b3"
      },
      "cell_type": "code",
      "source": [
        "assert isinstance(token_to_id, dict)\n",
        "assert len(token_to_id) == len(tokens)\n",
        "for tok in tokens:\n",
        "    assert tokens[token_to_id[tok]] == tok\n",
        "\n",
        "print(\"Correct!\")"
      ],
      "execution_count": 42,
      "outputs": [
        {
          "output_type": "stream",
          "text": [
            "Correct!\n"
          ],
          "name": "stdout"
        }
      ]
    },
    {
      "metadata": {
        "id": "vMs1BfbfB0Nf",
        "colab_type": "text"
      },
      "cell_type": "markdown",
      "source": [
        "And finally, let's use the vocabulary you've built to map text lines into torch-digestible matrices."
      ]
    },
    {
      "metadata": {
        "id": "9dGa_87fB0Ng",
        "colab_type": "code",
        "colab": {}
      },
      "cell_type": "code",
      "source": [
        "UNK_IX, PAD_IX = map(token_to_id.get, [UNK, PAD])\n",
        "\n",
        "def as_matrix(sequences, max_len=None):\n",
        "    \"\"\" Convert a list of tokens into a matrix with padding \"\"\"\n",
        "    if isinstance(sequences[0], str):\n",
        "        sequences = list(map(str.split, sequences))\n",
        "        \n",
        "    max_len = min(max(map(len, sequences)), max_len or float('inf'))\n",
        "    \n",
        "    matrix = np.full((len(sequences), max_len), np.int32(PAD_IX))\n",
        "    for i,seq in enumerate(sequences):\n",
        "        row_ix = [token_to_id.get(word, UNK_IX) for word in seq[:max_len]]\n",
        "        matrix[i, :len(row_ix)] = row_ix\n",
        "    \n",
        "    return matrix"
      ],
      "execution_count": 0,
      "outputs": []
    },
    {
      "metadata": {
        "id": "ycT2U5vgB0Ni",
        "colab_type": "code",
        "colab": {
          "base_uri": "https://localhost:8080/",
          "height": 179
        },
        "outputId": "d63966a8-4079-4570-a34e-ad6d89f0dce1"
      },
      "cell_type": "code",
      "source": [
        "#### print(\"Lines:\")\n",
        "print('\\n'.join(data[\"Title\"][::100000].values), end='\\n\\n')\n",
        "print(\"Matrix:\")\n",
        "print(as_matrix(data[\"Title\"][::100000]))"
      ],
      "execution_count": 44,
      "outputs": [
        {
          "output_type": "stream",
          "text": [
            "engineering systems analyst\n",
            "hr assistant\n",
            "senior ec & i engineer\n",
            "\n",
            "Matrix:\n",
            "[[   2    3    4    1    1]\n",
            " [ 998  176    1    1    1]\n",
            " [  18 3472  242   59    6]]\n"
          ],
          "name": "stdout"
        }
      ]
    },
    {
      "metadata": {
        "id": "tkryovVRB0Nk",
        "colab_type": "text"
      },
      "cell_type": "markdown",
      "source": [
        "Now let's  encode the categirical data we have.\n",
        "\n",
        "As usual, we shall use one-hot encoding for simplicity. Kudos if you implement tf-idf, target averaging or pseudo-counter-based encoding."
      ]
    },
    {
      "metadata": {
        "id": "i4s_CkDWB0Nl",
        "colab_type": "code",
        "colab": {
          "base_uri": "https://localhost:8080/",
          "height": 92
        },
        "outputId": "cee456e0-7911-4c8c-e4f1-f24486e9b949"
      },
      "cell_type": "code",
      "source": [
        "from sklearn.feature_extraction import DictVectorizer\n",
        "\n",
        "# we only consider top-1k most frequent companies to minimize memory usage\n",
        "top_companies, top_counts = zip(*Counter(data['Company']).most_common(1000))\n",
        "recognized_companies = set(top_companies)\n",
        "data[\"Company\"] = data[\"Company\"].apply(lambda comp: comp if comp in recognized_companies else \"Other\")\n",
        "\n",
        "categorical_vectorizer = DictVectorizer(dtype=np.float32, sparse=False)\n",
        "categorical_vectorizer.fit(data[categorical_columns].apply(dict, axis=1))"
      ],
      "execution_count": 45,
      "outputs": [
        {
          "output_type": "execute_result",
          "data": {
            "text/plain": [
              "DictVectorizer(dtype=<class 'numpy.float32'>, separator='=', sort=True,\n",
              "        sparse=False)"
            ]
          },
          "metadata": {
            "tags": []
          },
          "execution_count": 45
        }
      ]
    },
    {
      "metadata": {
        "id": "2GLLXf0jB0Np",
        "colab_type": "text"
      },
      "cell_type": "markdown",
      "source": [
        "### The data science part\n",
        "\n",
        "Once we've learned to tokenize the data, let's design a machine learning experiment.\n",
        "\n",
        "As before, we won't focus too much on validation, opting for a simple train-test split.\n",
        "\n",
        "__To be completely rigorous,__ we've comitted a small crime here: we used the whole data for tokenization and vocabulary building. A more strict way would be to do that part on training set only. You may want to do that and measure the magnitude of changes."
      ]
    },
    {
      "metadata": {
        "id": "sKKzKux6B0N2",
        "colab_type": "code",
        "colab": {
          "base_uri": "https://localhost:8080/",
          "height": 72
        },
        "outputId": "00e4676f-5277-4cd8-d35f-4b01908c4b2e"
      },
      "cell_type": "code",
      "source": [
        "from sklearn.model_selection import train_test_split\n",
        "\n",
        "data_train, data_val = train_test_split(data, test_size=0.1, random_state=42)\n",
        "\n",
        "print(\"Train size = \", len(data_train))\n",
        "print(\"Validation size = \", len(data_val))"
      ],
      "execution_count": 46,
      "outputs": [
        {
          "output_type": "stream",
          "text": [
            "Train size =  220291\n",
            "Validation size =  24477\n"
          ],
          "name": "stdout"
        }
      ]
    },
    {
      "metadata": {
        "id": "GrGkZlzDB0N3",
        "colab_type": "code",
        "colab": {}
      },
      "cell_type": "code",
      "source": [
        "def generate_batch(data, batch_size=None, replace=True, max_len=None):\n",
        "    \"\"\"\n",
        "    Creates a pytorch-friendly dict from the batch data.\n",
        "    :returns: a dict with {'title' : int64[batch, title_max_len]\n",
        "    \"\"\"\n",
        "    if batch_size is not None:\n",
        "        data = data.sample(batch_size, replace=replace)\n",
        "    \n",
        "    batch = {}\n",
        "    for col in text_columns:\n",
        "        batch[col] = as_matrix(data[col].values, max_len)\n",
        "    \n",
        "    batch['Categorical'] = categorical_vectorizer.transform(data[categorical_columns].apply(dict, axis=1))\n",
        "    \n",
        "    if target_column in data.columns:\n",
        "        batch[target_column] = data[target_column].values\n",
        "    \n",
        "    return batch"
      ],
      "execution_count": 0,
      "outputs": []
    },
    {
      "metadata": {
        "id": "ycxjeApXB0N4",
        "colab_type": "code",
        "colab": {
          "base_uri": "https://localhost:8080/",
          "height": 267
        },
        "outputId": "6a47fab4-ff47-4240-c05e-fc310add84f9"
      },
      "cell_type": "code",
      "source": [
        "generate_batch(data_train, 3, max_len=10)"
      ],
      "execution_count": 48,
      "outputs": [
        {
          "output_type": "execute_result",
          "data": {
            "text/plain": [
              "{'Categorical': array([[0., 0., 0., ..., 0., 0., 0.],\n",
              "        [0., 0., 0., ..., 0., 0., 0.],\n",
              "        [0., 0., 0., ..., 0., 0., 0.]], dtype=float32),\n",
              " 'FullDescription': array([[   18,  1079,    15,  2247,     9,  1438,    94,    92,   706,\n",
              "            86],\n",
              "        [ 1448,   295,  2241, 20921,   217,   561,  6357,  1080,  1589,\n",
              "           211],\n",
              "        [  237,    94,   160,  1354,  1166,   375,   153,  1527,  1166,\n",
              "            74]], dtype=int32),\n",
              " 'Log1pSalary': array([11.350418 , 10.532123 ,  9.7981825], dtype=float32),\n",
              " 'Title': array([[  18, 1079,   15, 2247,    9, 1438,   94],\n",
              "        [1083,   27,  287,   23,    1,    1,    1],\n",
              "        [ 237,   94,  160,    1,    1,    1,    1]], dtype=int32)}"
            ]
          },
          "metadata": {
            "tags": []
          },
          "execution_count": 48
        }
      ]
    },
    {
      "metadata": {
        "id": "g8OaftOvB0N5",
        "colab_type": "text"
      },
      "cell_type": "markdown",
      "source": [
        "### Finally, let's talk deep learning\n",
        "\n",
        "Out model consists of three branches:\n",
        "* Title encoder\n",
        "* Description encoder\n",
        "* Categorical features encoder\n",
        "\n",
        "We will then feed all 3 branches into one common network that predicts salary.\n",
        "\n",
        "![scheme](https://github.com/yandexdataschool/Practical_DL/raw/master/homework04/conv_salary_architecture.png)"
      ]
    },
    {
      "metadata": {
        "id": "FghKTkRRB0N6",
        "colab_type": "text"
      },
      "cell_type": "markdown",
      "source": [
        "By default, both text vectorizers shall use 1d convolutions, followed by global pooling over time."
      ]
    },
    {
      "metadata": {
        "id": "fFEyE48yB0N6",
        "colab_type": "code",
        "colab": {}
      },
      "cell_type": "code",
      "source": [
        "import torch, torch.nn as nn\n",
        "import torch.nn.functional as F\n",
        "from torch.autograd import Variable\n",
        "\n",
        "class GlobalMaxPooling(nn.Module):\n",
        "    def __init__(self, dim=-1):\n",
        "        super(self.__class__, self).__init__()\n",
        "        self.dim = dim\n",
        "        \n",
        "    def forward(self, x):\n",
        "        return x.max(dim=self.dim)[0]"
      ],
      "execution_count": 0,
      "outputs": []
    },
    {
      "metadata": {
        "id": "wUFPYoHyB0N7",
        "colab_type": "code",
        "colab": {}
      },
      "cell_type": "code",
      "source": [
        "class TitleEncoder(nn.Module):\n",
        "    def __init__(self, n_tokens=len(tokens), out_size=64):\n",
        "        \"\"\" \n",
        "        A simple sequential encoder for titles.\n",
        "        x -> emb -> conv -> global_max -> relu -> dense\n",
        "        \"\"\"\n",
        "        super(self.__class__, self).__init__()\n",
        "        self.emb = nn.Embedding(n_tokens, 64, padding_idx=PAD_IX)\n",
        "        self.conv1 = nn.Conv1d(64, out_size, kernel_size=3, padding=1)\n",
        "        self.pool1 = GlobalMaxPooling()        \n",
        "        self.dense = nn.Linear(out_size, out_size)\n",
        "\n",
        "    def forward(self, text_ix):\n",
        "        \"\"\"\n",
        "        :param text_ix: int64 Variable of shape [batch_size, max_len]\n",
        "        :returns: float32 Variable of shape [batch_size, out_size]\n",
        "        \"\"\"\n",
        "        h = self.emb(text_ix)\n",
        "\n",
        "        # we transpose from [batch, time, units] to [batch, units, time] to fit Conv1d dim order\n",
        "        h = torch.transpose(h, 1, 2)\n",
        "        \n",
        "        # Apply the layers as defined above. Add some ReLUs before dense.\n",
        "        <YOUR CODE>\n",
        "        \n",
        "        return <YOUR CODE>"
      ],
      "execution_count": 0,
      "outputs": []
    },
    {
      "metadata": {
        "id": "gmdBogeiB0N8",
        "colab_type": "code",
        "colab": {}
      },
      "cell_type": "code",
      "source": [
        "title_encoder = TitleEncoder(out_size=64)\n",
        "\n",
        "dummy_x = Variable(torch.LongTensor(generate_batch(data_train, 3)['Title']))\n",
        "dummy_v = title_encoder(dummy_x)\n",
        "\n",
        "assert isinstance(dummy_v, Variable)\n",
        "assert tuple(dummy_v.shape) == (dummy_x.shape[0], 64)\n",
        "\n",
        "del title_encoder\n",
        "print(\"Seems fine\")"
      ],
      "execution_count": 0,
      "outputs": []
    },
    {
      "metadata": {
        "id": "CBlQqBdLB0N9",
        "colab_type": "text"
      },
      "cell_type": "markdown",
      "source": [
        "__Task 2.1__ Create description encoder"
      ]
    },
    {
      "metadata": {
        "id": "X5qfjIARB0N9",
        "colab_type": "code",
        "colab": {}
      },
      "cell_type": "code",
      "source": [
        "# Define an encoder for job descriptions.\n",
        "# Use any means you want so long as it's torch.nn.Module.\n",
        "<YOUR CODE HERE>"
      ],
      "execution_count": 0,
      "outputs": []
    },
    {
      "metadata": {
        "id": "YLzkTvnEB0N-",
        "colab_type": "code",
        "colab": {}
      },
      "cell_type": "code",
      "source": [
        "desc_encoder = <Create description encoder>\n",
        "\n",
        "dummy_x = Variable(torch.LongTensor(generate_batch(data_train, 3)['FullDescription']))\n",
        "dummy_v = desc_encoder(dummy_x)\n",
        "\n",
        "assert isinstance(dummy_v, Variable)\n",
        "assert tuple(dummy_v.shape) == (dummy_x.shape[0], 64)\n",
        "del desc_encoder\n",
        "print(\"Seems fine too\")"
      ],
      "execution_count": 0,
      "outputs": []
    },
    {
      "metadata": {
        "id": "yzoZbZMTB0N_",
        "colab_type": "text"
      },
      "cell_type": "markdown",
      "source": [
        "__Task 2.2__ Build one network ~~to rule them all~~"
      ]
    },
    {
      "metadata": {
        "id": "_DTsXvOCB0N_",
        "colab_type": "code",
        "colab": {}
      },
      "cell_type": "code",
      "source": [
        "class FullNetwork(nn.Module):\n",
        "    \"\"\"\n",
        "    This class does all the steps from (title, desc, categorical) features -> predicted target\n",
        "    It unites title & desc encoders you defined above as long as some layers for head and categorical branch.\n",
        "    \"\"\"\n",
        "    \n",
        "    def __init__(self, n_tokens=len(tokens), n_cat_features=len(categorical_vectorizer.vocabulary_)):\n",
        "        super(self.__class__, self).__init__()\n",
        "        \n",
        "        self.title_encoder = TitleEncoder(out_size=64)\n",
        "        self.desc_encoder = <YOUR CODE>\n",
        "        \n",
        "        # define layers for categorical features. A few dense layers would do.\n",
        "        <YOUR CODE>\n",
        "        \n",
        "        # define \"output\" layers that process depend the three encoded vectors into answer\n",
        "        <YOUR CODE>\n",
        "        \n",
        "        \n",
        "    def forward(self, title_ix, desc_ix, cat_features):\n",
        "        \"\"\"\n",
        "        :param title_ix: int32 Variable [batch, title_len], job titles encoded by as_matrix\n",
        "        :param desc_ix:  int32 Variable [batch, desc_len] , job descriptions encoded by as_matrix\n",
        "        :param cat_features: float32 Variable [batch, n_cat_features]\n",
        "        :returns: float32 Variable 1d [batch], predicted log1p-salary\n",
        "        \"\"\"\n",
        "        \n",
        "        # process each data source with it's respective encoder\n",
        "        title_h = self.title_encoder(title_ix)\n",
        "        desc_h = <YOUR CODE>\n",
        "        \n",
        "        # apply categorical encoder\n",
        "        cat_h = <YOUR CODE>\n",
        "        \n",
        "        # concatenate all vectors together...\n",
        "        joint_h = torch.cat([title_h, desc_h, cat_h], dim=1)\n",
        "        \n",
        "        # ... and stack a few more layers at the top\n",
        "        <YOUR CODE>\n",
        "        \n",
        "        # Note 1: do not forget to select first columns, [:, 0], to get to 1d outputs\n",
        "        # Note 2: please do not use output nonlinearities.\n",
        "        \n",
        "        return <YOUR CODE>"
      ],
      "execution_count": 0,
      "outputs": []
    },
    {
      "metadata": {
        "id": "7p2zWTYQB0OB",
        "colab_type": "code",
        "colab": {}
      },
      "cell_type": "code",
      "source": [
        "model = FullNetwork()\n",
        "opt = torch.optim.Adam(model.parameters(), lr=1e-3)"
      ],
      "execution_count": 0,
      "outputs": []
    },
    {
      "metadata": {
        "id": "HLRQWW0dB0OB",
        "colab_type": "code",
        "colab": {}
      },
      "cell_type": "code",
      "source": [
        "# test it on one batch\n",
        "\n",
        "batch = generate_batch(data_train, 32)\n",
        "\n",
        "title_ix = torch.tensor(batch[\"Title\"], dtype=torch.int64)\n",
        "desc_ix = torch.tensor(batch[\"FullDescription\"], dtype=torch.int64)\n",
        "cat_features = torch.tensor(batch[\"Categorical\"], dtype=torch.float32)\n",
        "reference = torch.tensor(batch[target_column], dtype=torch.float32)\n",
        "\n",
        "prediction = model(title_ix, desc_ix, cat_features)\n",
        "\n",
        "assert len(prediction.shape) == 1 and prediction.shape[0] == title_ix.shape[0]"
      ],
      "execution_count": 0,
      "outputs": []
    },
    {
      "metadata": {
        "id": "Iu7WlSoVB0OC",
        "colab_type": "code",
        "colab": {}
      },
      "cell_type": "code",
      "source": [
        "def compute_loss(reference, prediction):\n",
        "    \"\"\"\n",
        "    Computes objective for minimization.\n",
        "    By deafult we minimize MSE, but you are encouraged to try mix up MSE, MAE, huber loss, etc.\n",
        "    \"\"\"\n",
        "    return torch.mean((prediction - reference) ** 2)\n",
        "\n",
        "def compute_mae(reference, prediction):\n",
        "    \"\"\" Compute MAE on actual salary, assuming your model outputs log1p(salary)\"\"\"\n",
        "    return torch.abs(torch.exp(reference - 1) - torch.exp(prediction - 1)).mean()"
      ],
      "execution_count": 0,
      "outputs": []
    },
    {
      "metadata": {
        "id": "RrD_iqErB0OD",
        "colab_type": "code",
        "colab": {}
      },
      "cell_type": "code",
      "source": [
        "loss = compute_loss(reference, prediction)\n",
        "dummy_grads = torch.autograd.grad(loss, model.parameters(), retain_graph=True)\n",
        "for grad in dummy_grads:\n",
        "    assert grad is not None and not (grad == 0).all(), \"Some model parameters received zero grads. \" \\\n",
        "                                                       \"Double-check that your model uses all it's layers.\""
      ],
      "execution_count": 0,
      "outputs": []
    },
    {
      "metadata": {
        "id": "Uf7yKPL5B0OE",
        "colab_type": "text"
      },
      "cell_type": "markdown",
      "source": [
        "### Let's train it!"
      ]
    },
    {
      "metadata": {
        "collapsed": true,
        "id": "LtoCnNj4B0OE",
        "colab_type": "code",
        "colab": {}
      },
      "cell_type": "code",
      "source": [
        "from tqdm import tnrange\n",
        "def iterate_minibatches(data, batch_size=32, max_len=None,\n",
        "                        max_batches=None, shuffle=True, verbose=True):\n",
        "    indices = np.arange(len(data))\n",
        "    if shuffle:\n",
        "        indices = np.random.permutation(indices)\n",
        "    if max_batches is not None:\n",
        "        indices = indices[: batch_size * max_batches]\n",
        "        \n",
        "    irange = tnrange if verbose else range\n",
        "    \n",
        "    for start in irange(0, len(indices), batch_size):\n",
        "        yield generate_batch(data.iloc[indices[start : start + batch_size]], max_len=max_len)"
      ],
      "execution_count": 0,
      "outputs": []
    },
    {
      "metadata": {
        "collapsed": true,
        "id": "TqE4mv33B0OF",
        "colab_type": "code",
        "colab": {}
      },
      "cell_type": "code",
      "source": [
        "num_epochs = 100\n",
        "max_len = 100\n",
        "batch_size = 32\n",
        "batches_per_epoch = 100"
      ],
      "execution_count": 0,
      "outputs": []
    },
    {
      "metadata": {
        "collapsed": true,
        "id": "CjCJ_rrNB0OF",
        "colab_type": "code",
        "colab": {}
      },
      "cell_type": "code",
      "source": [
        "for epoch_i in range(num_epochs):\n",
        "    \n",
        "    print(\"Training:\")\n",
        "    train_loss = train_mae = train_batches = 0    \n",
        "    model.train(True)\n",
        "    \n",
        "    for batch in iterate_minibatches(data_train, max_batches=batches_per_epoch):\n",
        "        title_ix = torch.tensor(batch[\"Title\"], dtype=torch.int64)\n",
        "        desc_ix = torch.tensor(batch[\"FullDescription\"], dtype=torch.int64)\n",
        "        cat_features = torch.tensor(batch[\"Categorical\"], dtype=torch.float32)\n",
        "        reference = torch.tensor(batch[target_column], dtype=torch.float32)\n",
        "\n",
        "        prediction = model(title_ix, desc_ix, cat_features)\n",
        "\n",
        "        loss = compute_loss(reference, prediction)\n",
        "        loss.backward()\n",
        "        opt.step()\n",
        "        opt.zero_grad()\n",
        "\n",
        "        train_loss += loss.data.numpy()[0]\n",
        "        train_mae += compute_mae(reference, prediction).data.numpy()[0]\n",
        "        train_batches += 1\n",
        "    \n",
        "    print(\"\\tLoss:\\t%.5f\" % (train_loss / train_batches))\n",
        "    print(\"\\tMAE:\\t%.5f\" % (train_mae / train_batches))\n",
        "    print('\\n\\n')\n",
        "    \n",
        "    print(\"Validation:\")\n",
        "    val_loss = val_mae = val_batches = 0\n",
        "    model.train(False)\n",
        "    \n",
        "    for batch in iterate_minibatches(data_val, shuffle=False):\n",
        "        title_ix = torch.tensor(batch[\"Title\"], dtype=torch.int64)\n",
        "        desc_ix = torch.tensor(batch[\"FullDescription\"], dtype=torch.int64)\n",
        "        cat_features = torch.tensor(batch[\"Categorical\"], dtype=torch.float32)\n",
        "        reference = torch.tensor(batch[target_column], dtype=torch.float32)\n",
        "        prediction = model(title_ix, desc_ix, cat_features)\n",
        "        loss = compute_loss(reference, prediction)\n",
        "\n",
        "        val_loss += loss.data.numpy()[0]\n",
        "        val_mae += compute_mae(reference, prediction).data.numpy()[0]\n",
        "        val_batches += 1\n",
        "        \n",
        "    print(\"\\tLoss:\\t%.5f\" % (val_loss / val_batches))\n",
        "    print(\"\\tMAE:\\t%.5f\" % (val_mae / val_batches))\n",
        "    print('\\n\\n')"
      ],
      "execution_count": 0,
      "outputs": []
    },
    {
      "metadata": {
        "collapsed": true,
        "id": "1UKSOHSBB0OG",
        "colab_type": "code",
        "colab": {}
      },
      "cell_type": "code",
      "source": [
        "print(\"Final eval:\")\n",
        "val_loss = val_mae = val_batches = 0\n",
        "\n",
        "for batch in iterate_minibatches(data_val, shuffle=False):\n",
        "    title_ix = torch.tensor(batch[\"Title\"], dtype=torch.int64)\n",
        "    desc_ix = torch.tensor(batch[\"FullDescription\"], dtype=torch.int64)\n",
        "    cat_features = torch.tensor(batch[\"Categorical\"], dtype=torch.float32)\n",
        "    reference = torch.tensor(batch[target_column], dtype=torch.float32)\n",
        "\n",
        "    prediction = model(title_ix, desc_ix, cat_features)\n",
        "    loss = compute_loss(reference, prediction)\n",
        "\n",
        "    val_loss += loss.data.numpy()[0]\n",
        "    val_mae += compute_mae(reference, prediction).data.numpy()[0]\n",
        "    val_batches += 1\n",
        "\n",
        "print(\"\\tLoss:\\t%.5f\" % (val_loss / val_batches))\n",
        "print(\"\\tMAE:\\t%.5f\" % (val_mae / val_batches))\n",
        "print('\\n\\n')"
      ],
      "execution_count": 0,
      "outputs": []
    },
    {
      "metadata": {
        "id": "7sZhWAVXB0OG",
        "colab_type": "text"
      },
      "cell_type": "markdown",
      "source": [
        "### Task 3: explaining network predictions\n",
        "\n",
        "It's usually a good idea to understand what your model does before you let it make actual decisions. It's simple for linear models: just see which words learned positive or negative weights. However, its much harder for neural networks that learn complex nonlinear dependencies.\n",
        "\n",
        "There are, however, some ways to look inside the black box:\n",
        "* Seeing how model responds to input perturbations\n",
        "* Finding inputs that maximize/minimize activation of some chosen neurons (_read more [on distill.pub](https://distill.pub/2018/building-blocks/)_)\n",
        "* Building local linear approximations to your neural network: [article](https://arxiv.org/abs/1602.04938), [eli5 library](https://github.com/TeamHG-Memex/eli5/tree/master/eli5/formatters)\n",
        "\n",
        "Today we gonna try the first method just because it's the simplest one.\n",
        "\n",
        "__Your task__ is to measure how does model prediction change if you replace certain tokens with UNKs. The core idea is that if dropping a word from text causes model to predict lower log-salary, than this word probably has positive contribution to salary (and vice versa)."
      ]
    },
    {
      "metadata": {
        "id": "fbMVX5pqB0OI",
        "colab_type": "code",
        "colab": {}
      },
      "cell_type": "code",
      "source": [
        "def explain(model, sample, col_name='Title'):\n",
        "    \"\"\" Computes the effect each word had on model predictions \"\"\"\n",
        "    \n",
        "    # compute model prediction on sample (scalar float log-salary)\n",
        "    baseline_pred = <YOUR CODE>\n",
        "    \n",
        "    # for each i-th token in :col_name:, compute predictions on a copy of data\n",
        "    # where i-th token is dropped (UNK)\n",
        "    predictions_without_word = <YOUR CODE>\n",
        "    \n",
        "    score_differences = [\n",
        "        prediction - baseline_pred for prediction in predictions_without_word\n",
        "    ]\n",
        "    \n",
        "    # return a list of pairs: [(token, score_difference)]\n",
        "    return <YOUR CODE>"
      ],
      "execution_count": 0,
      "outputs": []
    },
    {
      "metadata": {
        "id": "0PcQnND7B0OJ",
        "colab_type": "code",
        "colab": {}
      },
      "cell_type": "code",
      "source": [
        "# debugging area\n",
        "sample = data.loc[np.random.randint(len(data))]\n",
        "print(\"Input:\", sample)\n",
        "\n",
        "tokens_and_weights = explain(model, sample, \"Title\")\n",
        "print(token_and_weights)"
      ],
      "execution_count": 0,
      "outputs": []
    },
    {
      "metadata": {
        "id": "5sOyiFRgB0OK",
        "colab_type": "code",
        "colab": {}
      },
      "cell_type": "code",
      "source": [
        "from IPython.display import HTML, display_html\n",
        "\n",
        "def draw_html(tokens_and_weights, cmap=plt.get_cmap(\"bwr\"), display=True,\n",
        "              token_template=\"\"\"<span style=\"background-color: {color_hex}\">{token}</span>\"\"\",\n",
        "              font_style=\"font-size:14px;\"\n",
        "             ):\n",
        "    \n",
        "    def get_color_hex(weight):\n",
        "        rgba = cmap(1. / (1 + np.exp(weight)), bytes=True)\n",
        "        return '#%02X%02X%02X' % rgba[:3]\n",
        "    \n",
        "    tokens_html = [\n",
        "        token_template.format(token=token, color_hex=get_color_hex(weight))\n",
        "        for token, weight in tokens_and_weights\n",
        "    ]\n",
        "    \n",
        "    \n",
        "    raw_html = \"\"\"<p style=\"{}\">{}</p>\"\"\".format(font_style, ' '.join(tokens_html))\n",
        "    if display:\n",
        "        display_html(HTML(raw_html))\n",
        "        \n",
        "    return raw_html\n",
        "    "
      ],
      "execution_count": 0,
      "outputs": []
    },
    {
      "metadata": {
        "id": "cI7kksaOB0OK",
        "colab_type": "code",
        "colab": {}
      },
      "cell_type": "code",
      "source": [
        "i = np.random.randint(len(data))\n",
        "sample = data.loc[i]\n",
        "print(\"Index:\", i)\n",
        "\n",
        "# predict salary on sample\n",
        "print(\"Salary (gbp):\", <YOUR CODE>)\n",
        "\n",
        "tokens_and_weights = explain(model, sample, \"Title\")\n",
        "draw_html([(tok, weight * 5) for tok, weight in tokens_and_weights], font_style='font-size:20px;');\n",
        "\n",
        "tokens_and_weights = explain(model, sample, \"FullDescription\")\n",
        "draw_html([(tok, weight * 10) for tok, weight in tokens_and_weights]);"
      ],
      "execution_count": 0,
      "outputs": []
    },
    {
      "metadata": {
        "id": "dl1VICJbB0OM",
        "colab_type": "text"
      },
      "cell_type": "markdown",
      "source": [
        "### Task 4: Actually make it work\n",
        "\n",
        "Your main task is to use some of the tricks you've learned on the network and analyze if you can improve __validation MAE__.\n",
        "\n",
        "Try __at least 3 options__ from the list below for a passing grade. If you're into \n",
        "\n",
        "#### A) CNN architecture\n",
        "\n",
        "All the tricks you know about dense and convolutional neural networks apply here as well.\n",
        "* Dropout. Nuff said.\n",
        "* Batch Norm. This time it's `nn.BatchNorm1d`\n",
        "* Parallel convolution layers. The idea is that you apply several nn.Conv1d to the same embeddings and concatenate output channels.\n",
        "* More layers, more neurons, ya know...\n",
        "\n",
        "\n",
        "#### B) Play with pooling\n",
        "\n",
        "There's more than one way to do max pooling:\n",
        "* Max over time - our `GlobalMaxPooling`\n",
        "* Average over time (excluding PAD)\n",
        "* Softmax-pooling:\n",
        "$$ out_{i, t} = \\sum_t {h_{i,t} \\cdot {{e ^ {h_{i, t}}} \\over \\sum_\\tau e ^ {h_{j, \\tau}} } }$$\n",
        "\n",
        "* Attentive pooling\n",
        "$$ out_{i, t} = \\sum_t {h_{i,t} \\cdot Attn(h_t)}$$\n",
        "\n",
        ", where $$ Attn(h_t) = {{e ^ {NN_{attn}(h_t)}} \\over \\sum_\\tau e ^ {NN_{attn}(h_\\tau)}}  $$\n",
        "and $NN_{attn}$ is a small neural network\n",
        "\n",
        "\n",
        "The optimal score is usually achieved by concatenating several different poolings, including several attentive pooling with different $NN_{attn}$\n",
        "\n",
        "#### C) Fun with embeddings\n",
        "\n",
        "It's not always a good idea to train embeddings from scratch. Here's a few tricks:\n",
        "\n",
        "* Use a pre-trained word2vec from [here](http://ahogrammer.com/2017/01/20/the-list-of-pretrained-word-embeddings/) or [here](http://mccormickml.com/2016/04/12/googles-pretrained-word2vec-model-in-python/).\n",
        "* Start with pre-trained embeddings, then fine-tune them with gradient descent\n",
        "* Use the same embedding matrix in title and desc vectorizer\n",
        "\n",
        "#### D) Going recurrent\n",
        "\n",
        "We've already learned that recurrent networks can do cool stuff in sequence modelling. Turns out, they're not useless for classification as well. With some tricks of course..\n",
        "\n",
        "* Like convolutional layers, LSTM should be pooled into a fixed-size vector with some of the poolings.\n",
        "  * Please bear in mind that while convolution uses [batch, units, time] dim order, \n",
        "    recurrent units are built for [batch, time, unit]. You may need to `torch.transpose`.\n",
        "\n",
        "* Since you know all the text in advance, use bidirectional RNN\n",
        "  * Run one LSTM from left to right\n",
        "  * Run another in parallel from right to left \n",
        "  * Concatenate their output sequences along unit axis (dim=-1)\n",
        "\n",
        "* It might be good idea to mix convolutions and recurrent layers differently for title and description\n",
        "\n",
        "\n",
        "#### E) Optimizing seriously\n",
        "\n",
        "* You don't necessarily need 100 epochs. Use early stopping. If you've never done this before, take a look at [keras](https://github.com/keras-team/keras/blob/master/keras/callbacks.py#L461) for inspiration.\n",
        "  * In short, train until you notice that validation\n",
        "  * Maintain the best-on-validation snapshot via `model.state_dict`\n",
        "  * Plotting learning curves is usually a good idea"
      ]
    },
    {
      "metadata": {
        "id": "hdoJ6AzFB0OM",
        "colab_type": "text"
      },
      "cell_type": "markdown",
      "source": [
        "### A short report\n",
        "\n",
        "Please tell us what you did and how did it work.\n",
        "\n",
        "`<YOUR_TEXT_HERE>`, i guess..."
      ]
    },
    {
      "metadata": {
        "collapsed": true,
        "id": "3I7uL_-WB0ON",
        "colab_type": "code",
        "colab": {}
      },
      "cell_type": "code",
      "source": [
        ""
      ],
      "execution_count": 0,
      "outputs": []
    }
  ]
}